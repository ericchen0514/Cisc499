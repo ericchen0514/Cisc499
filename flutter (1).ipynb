{
 "cells": [
  {
   "cell_type": "code",
   "execution_count": 140,
   "metadata": {},
   "outputs": [
    {
     "name": "stderr",
     "output_type": "stream",
     "text": [
      "[nltk_data] Downloading package stopwords to\n",
      "[nltk_data]     C:\\Users\\eric_\\AppData\\Roaming\\nltk_data...\n",
      "[nltk_data]   Package stopwords is already up-to-date!\n"
     ]
    },
    {
     "data": {
      "text/plain": [
       "True"
      ]
     },
     "execution_count": 140,
     "metadata": {},
     "output_type": "execute_result"
    }
   ],
   "source": [
    "import nltk; nltk.download('stopwords')"
   ]
  },
  {
   "cell_type": "code",
   "execution_count": 141,
   "metadata": {},
   "outputs": [],
   "source": [
    "import re\n",
    "import numpy as np \n",
    "import pandas as pd\n",
    "\n",
    "from pprint import pprint"
   ]
  },
  {
   "cell_type": "code",
   "execution_count": 142,
   "metadata": {},
   "outputs": [],
   "source": [
    "import gensim\n",
    "import gensim.corpora as corpora\n",
    "from gensim.utils import simple_preprocess\n",
    "from gensim.models import CoherenceModel"
   ]
  },
  {
   "cell_type": "code",
   "execution_count": 143,
   "metadata": {},
   "outputs": [],
   "source": [
    "import spacy\n",
    "nlp = spacy.load(\"en_core_web_sm\")"
   ]
  },
  {
   "cell_type": "code",
   "execution_count": 144,
   "metadata": {},
   "outputs": [],
   "source": [
    "# Plotting tools\n",
    "import pyLDAvis\n",
    "import pyLDAvis.gensim  \n",
    "import matplotlib.pyplot as plt\n",
    "%matplotlib inline\n",
    "\n",
    "# Enable logging for gensim\n",
    "import logging\n",
    "logging.basicConfig(format='%(asctime)s : %(levelname)s : %(message)s', level=logging.ERROR)\n",
    "\n",
    "import warnings\n",
    "warnings.filterwarnings(\"ignore\",category=DeprecationWarning)"
   ]
  },
  {
   "cell_type": "code",
   "execution_count": 145,
   "metadata": {},
   "outputs": [],
   "source": [
    "#nltk stop words\n",
    "from nltk.corpus import stopwords\n",
    "stop_words = stopwords.words('english')\n",
    "stop_words.append(\"flutter\")\n",
    "stop_words.extend(['from','subject','re','edu','use'])"
   ]
  },
  {
   "cell_type": "code",
   "execution_count": 146,
   "metadata": {},
   "outputs": [],
   "source": [
    "import os\n",
    "os.environ[\"GOOGLE_APPLICATION_CREDENTIALS\"]=\"C:\\\\Users\\\\eric_\\\\Downloads\\\\My Project-499-f28c2476b9b8.json\""
   ]
  },
  {
   "cell_type": "code",
   "execution_count": 147,
   "metadata": {},
   "outputs": [],
   "source": [
    "from google.cloud import bigquery\n",
    "client = bigquery.Client()"
   ]
  },
  {
   "cell_type": "code",
   "execution_count": 148,
   "metadata": {},
   "outputs": [],
   "source": [
    "sql = '''\n",
    "        SELECT title, score\n",
    "        FROM `bigquery-public-data.stackoverflow.tags` FULL OUTER Join `bigquery-public-data.stackoverflow.posts_questions`\n",
    "        ON tag_name = tags\n",
    "        where tags like'%flutter%' and score > 5\n",
    "        order by score desc\n",
    "'''\n",
    "query_job = client.query(\n",
    "    sql,\n",
    "    location=\"US\",\n",
    ")\n",
    "flutter = []\n",
    "for row in query_job:\n",
    "    flutter += row\n",
    "#print(flutter)\n"
   ]
  },
  {
   "cell_type": "code",
   "execution_count": 149,
   "metadata": {},
   "outputs": [],
   "source": [
    "#tokenize words \n",
    "def tokenize_words(txt):\n",
    "    for x in txt: \n",
    "        yield(gensim.utils.simple_preprocess(str(x), deacc=True)) #deacc removes punctuations\n",
    "\n",
    "data_words = list(tokenize_words(flutter))\n",
    "#print(data_words)"
   ]
  },
  {
   "cell_type": "code",
   "execution_count": 150,
   "metadata": {},
   "outputs": [],
   "source": [
    "# Build the bigram and trigram models\n",
    "bigram = gensim.models.Phrases(data_words, min_count=5, threshold=50) # higher threshold fewer phrases.\n",
    "trigram = gensim.models.Phrases(bigram[data_words], threshold=50)\n",
    "\n",
    "# Faster way to get a sentence clubbed as a trigram/bigram\n",
    "bigram_mod = gensim.models.phrases.Phraser(bigram)\n",
    "trigram_mod = gensim.models.phrases.Phraser(trigram)\n",
    "\n",
    "# See trigram example\n",
    "#print(trigram_mod[bigram_mod[data_words[0]]])"
   ]
  },
  {
   "cell_type": "code",
   "execution_count": 151,
   "metadata": {},
   "outputs": [],
   "source": [
    "# Define functions for stopwords, bigrams, trigrams and lemmatization\n",
    "def remove_stopwords(texts):\n",
    "    return [[word for word in simple_preprocess(str(doc)) if word not in stop_words] for doc in texts]\n",
    "\n",
    "def make_bigrams(texts):\n",
    "    return [bigram_mod[doc] for doc in texts]\n",
    "\n",
    "def make_trigrams(texts):\n",
    "    return [trigram_mod[bigram_mod[doc]] for doc in texts]\n",
    "\n",
    "def lemmatization(texts, allowed_postags=['NOUN', 'ADJ', 'VERB', 'ADV']):\n",
    "    \"\"\"https://spacy.io/api/annotation\"\"\"\n",
    "    texts_out = []\n",
    "    for sent in texts:\n",
    "        doc = nlp(\" \".join(sent)) \n",
    "        texts_out.append([token.lemma_ for token in doc if token.pos_ in allowed_postags])\n",
    "    return texts_out"
   ]
  },
  {
   "cell_type": "code",
   "execution_count": 152,
   "metadata": {
    "scrolled": true
   },
   "outputs": [],
   "source": [
    "# Remove Stop Words\n",
    "data_words_nostops = remove_stopwords(data_words)\n",
    "\n",
    "# Form Bigrams\n",
    "data_words_bigrams = make_bigrams(data_words_nostops)\n",
    "\n",
    "# Initialize spacy 'en' model, keeping only tagger component (for efficiency)\n",
    "# python3 -m spacy download en\n",
    "nlp = spacy.load('en_core_web_sm', disable=['parser', 'ner'])\n",
    "\n",
    "# Do lemmatization keeping only noun, adj, vb, adv\n",
    "data_lemmatized = lemmatization(data_words_bigrams, allowed_postags=['NOUN', 'ADJ', 'VERB', 'ADV'])\n",
    "\n",
    "#print(data_lemmatized)"
   ]
  },
  {
   "cell_type": "code",
   "execution_count": 153,
   "metadata": {},
   "outputs": [],
   "source": [
    "# Create Dictionary\n",
    "id2word = corpora.Dictionary(data_lemmatized)\n",
    "\n",
    "# Create Corpus\n",
    "texts = data_lemmatized\n",
    "\n",
    "# Term Document Frequency\n",
    "corpus = [id2word.doc2bow(text) for text in texts]\n",
    "\n",
    "# View\n",
    "#print(corpus[:1])"
   ]
  },
  {
   "cell_type": "code",
   "execution_count": 154,
   "metadata": {},
   "outputs": [
    {
     "data": {
      "text/plain": [
       "[[('emulator', 1)]]"
      ]
     },
     "execution_count": 154,
     "metadata": {},
     "output_type": "execute_result"
    }
   ],
   "source": [
    "# Human readable format of corpus (term-frequency)\n",
    "[[(id2word[id], freq) for id, freq in cp] for cp in corpus[:1]]"
   ]
  },
  {
   "cell_type": "code",
   "execution_count": 167,
   "metadata": {},
   "outputs": [],
   "source": [
    "lda_model = gensim.models.ldamodel.LdaModel(corpus=corpus,\n",
    "                                           id2word=id2word,\n",
    "                                           num_topics= 15, \n",
    "                                           random_state=20,\n",
    "                                           update_every=1,\n",
    "                                           chunksize=500,\n",
    "                                           passes=15,\n",
    "                                           alpha=15,\n",
    "                                           per_word_topics=True)"
   ]
  },
  {
   "cell_type": "code",
   "execution_count": 168,
   "metadata": {},
   "outputs": [
    {
     "name": "stdout",
     "output_type": "stream",
     "text": [
      "[(0,\n",
      "  '0.077*\"screen\" + 0.062*\"add\" + 0.058*\"image\" + 0.057*\"call\" + 0.054*\"file\" '\n",
      "  '+ 0.050*\"item\" + 0.045*\"size\" + 0.034*\"container\" + 0.034*\"app\" + '\n",
      "  '0.026*\"user\"'),\n",
      " (1,\n",
      "  '0.064*\"image\" + 0.062*\"widget\" + 0.062*\"string\" + 0.049*\"pass\" + '\n",
      "  '0.048*\"bottom\" + 0.035*\"message\" + 0.035*\"create\" + 0.033*\"sdk\" + '\n",
      "  '0.031*\"open\" + 0.031*\"child\"'),\n",
      " (2,\n",
      "  '0.061*\"fail\" + 0.053*\"firestore\" + 0.052*\"plugin\" + 0.048*\"disable\" + '\n",
      "  '0.046*\"way\" + 0.045*\"display\" + 0.042*\"datum\" + 0.041*\"select\" + '\n",
      "  '0.039*\"screen\" + 0.034*\"load\"'),\n",
      " (3,\n",
      "  '0.087*\"text\" + 0.085*\"create\" + 0.072*\"image\" + 0.044*\"width\" + '\n",
      "  '0.041*\"remove\" + 0.036*\"use\" + 0.036*\"padding\" + 0.032*\"animation\" + '\n",
      "  '0.028*\"color\" + 0.025*\"widget\"'),\n",
      " (4,\n",
      "  '0.088*\"change\" + 0.080*\"list\" + 0.077*\"function\" + 0.050*\"widget\" + '\n",
      "  '0.041*\"map\" + 0.040*\"make\" + 0.035*\"effect\" + 0.031*\"number\" + '\n",
      "  '0.029*\"local\" + 0.024*\"open\"'),\n",
      " (5,\n",
      "  '0.097*\"error\" + 0.059*\"parent\" + 0.053*\"android_studio\" + 0.041*\"name\" + '\n",
      "  '0.035*\"package\" + 0.032*\"class\" + 0.031*\"dialog\" + 0.031*\"picker\" + '\n",
      "  '0.026*\"horizontal\" + 0.026*\"unable\"'),\n",
      " (6,\n",
      "  '0.082*\"route\" + 0.076*\"navigator\" + 0.051*\"application\" + 0.045*\"show\" + '\n",
      "  '0.043*\"possible\" + 0.041*\"implement\" + 0.040*\"request\" + 0.036*\"widget\" + '\n",
      "  '0.031*\"add\" + 0.030*\"use\"'),\n",
      " (7,\n",
      "  '0.072*\"view\" + 0.066*\"make\" + 0.057*\"run\" + 0.047*\"difference\" + '\n",
      "  '0.047*\"handle\" + 0.046*\"listview\" + 0.039*\"background\" + 0.034*\"find\" + '\n",
      "  '0.034*\"default\" + 0.023*\"share\"'),\n",
      " (8,\n",
      "  '0.105*\"widget\" + 0.072*\"line\" + 0.048*\"state\" + 0.044*\"file\" + '\n",
      "  '0.043*\"error\" + 0.037*\"property\" + 0.036*\"project\" + 0.029*\"height\" + '\n",
      "  '0.025*\"initstate\" + 0.024*\"dependency\"'),\n",
      " (9,\n",
      "  '0.080*\"value\" + 0.070*\"button\" + 0.058*\"current\" + 0.049*\"use\" + '\n",
      "  '0.039*\"tap\" + 0.037*\"create\" + 0.034*\"code\" + 0.032*\"nest\" + '\n",
      "  '0.032*\"context\" + 0.031*\"reload\"'),\n",
      " (10,\n",
      "  '0.074*\"add\" + 0.073*\"build\" + 0.070*\"use\" + 0.049*\"object\" + 0.038*\"color\" '\n",
      "  '+ 0.031*\"give\" + 0.030*\"listview\" + 0.029*\"text\" + 0.029*\"image\" + '\n",
      "  '0.028*\"android\"'),\n",
      " (11,\n",
      "  '0.066*\"icon\" + 0.062*\"position\" + 0.049*\"custom\" + 0.045*\"widget\" + '\n",
      "  '0.044*\"hide\" + 0.040*\"update\" + 0.040*\"testing\" + 0.036*\"color\" + '\n",
      "  '0.031*\"scrollable\" + 0.031*\"time\"'),\n",
      " (12,\n",
      "  '0.080*\"page\" + 0.068*\"set\" + 0.065*\"type\" + 0.063*\"multiple\" + '\n",
      "  '0.054*\"textfield\" + 0.047*\"app\" + 0.039*\"dynamic\" + 0.031*\"find\" + '\n",
      "  '0.028*\"native\" + 0.023*\"widget\"'),\n",
      " (13,\n",
      "  '0.059*\"android\" + 0.051*\"setstate\" + 0.048*\"widget\" + 0.041*\"error\" + '\n",
      "  '0.038*\"border\" + 0.035*\"get\" + 0.033*\"navigation\" + 0.033*\"project\" + '\n",
      "  '0.032*\"detect\" + 0.031*\"bar\"'),\n",
      " (14,\n",
      "  '0.069*\"test\" + 0.056*\"device\" + 0.052*\"scroll\" + 0.046*\"full\" + '\n",
      "  '0.045*\"size\" + 0.045*\"dart\" + 0.043*\"different\" + 0.040*\"future\" + '\n",
      "  '0.038*\"base\" + 0.032*\"option\"')]\n"
     ]
    }
   ],
   "source": [
    "pprint(lda_model.print_topics())\n",
    "doc_lda = lda_model[corpus]"
   ]
  },
  {
   "cell_type": "code",
   "execution_count": 169,
   "metadata": {},
   "outputs": [
    {
     "name": "stdout",
     "output_type": "stream",
     "text": [
      "\n",
      "Perplexity:  -10.201713660166412\n",
      "\n",
      "Coherence Score:  0.7003693014886471\n"
     ]
    }
   ],
   "source": [
    "# Compute Perplexity\n",
    "print('\\nPerplexity: ', lda_model.log_perplexity(corpus))  # a measure of how good the model is. lower the better.\n",
    "\n",
    "# Compute Coherence Score\n",
    "coherence_model_lda = CoherenceModel(model=lda_model, texts=data_lemmatized, dictionary=id2word, coherence='c_v')\n",
    "coherence_lda = coherence_model_lda.get_coherence()\n",
    "print('\\nCoherence Score: ', coherence_lda)"
   ]
  },
  {
   "cell_type": "code",
   "execution_count": 170,
   "metadata": {},
   "outputs": [
    {
     "name": "stderr",
     "output_type": "stream",
     "text": [
      "C:\\Users\\eric_\\Anaconda3\\lib\\site-packages\\pyLDAvis\\_prepare.py:257: FutureWarning: Sorting because non-concatenation axis is not aligned. A future version\n",
      "of pandas will change to not sort by default.\n",
      "\n",
      "To accept the future behavior, pass 'sort=False'.\n",
      "\n",
      "To retain the current behavior and silence the warning, pass 'sort=True'.\n",
      "\n",
      "  return pd.concat([default_term_info] + list(topic_dfs))\n"
     ]
    },
    {
     "data": {
      "text/html": [
       "\n",
       "<link rel=\"stylesheet\" type=\"text/css\" href=\"https://cdn.rawgit.com/bmabey/pyLDAvis/files/ldavis.v1.0.0.css\">\n",
       "\n",
       "\n",
       "<div id=\"ldavis_el208122561793459656693930410\"></div>\n",
       "<script type=\"text/javascript\">\n",
       "\n",
       "var ldavis_el208122561793459656693930410_data = {\"mdsDat\": {\"x\": [-0.06700075032165943, -0.03649679200339266, 0.06639872507921063, -0.05701877224387341, -0.07833082962843538, 0.25892541792724083, -0.015476852455532403, -0.029438366545952332, -0.1064045342961927, 0.05227085441051376, -0.03997105354338169, -0.08610451230492043, 0.018701620611822817, 0.20278303321177457, -0.08283718789722319], \"y\": [0.08252684357854041, 0.0809848102488229, 0.21290882207054534, -0.07284944142486954, 0.016189923164736213, -0.06446945634580259, -0.08145205698760212, -0.048520786739528345, 0.1381248801626365, -0.10144093625300776, -0.16155772596713133, -0.09342630417141373, 0.059609828318892645, 0.04416147849631087, -0.010789878151129133], \"topics\": [1, 2, 3, 4, 5, 6, 7, 8, 9, 10, 11, 12, 13, 14, 15], \"cluster\": [1, 1, 1, 1, 1, 1, 1, 1, 1, 1, 1, 1, 1, 1, 1], \"Freq\": [6.675753593444824, 6.6750807762146, 6.671410083770752, 6.6694722175598145, 6.669056415557861, 6.668462753295898, 6.667961120605469, 6.664989948272705, 6.664355754852295, 6.664239406585693, 6.664229393005371, 6.662045478820801, 6.661983013153076, 6.661765098571777, 6.659196376800537]}, \"tinfo\": {\"Category\": [\"Default\", \"Default\", \"Default\", \"Default\", \"Default\", \"Default\", \"Default\", \"Default\", \"Default\", \"Default\", \"Default\", \"Default\", \"Default\", \"Default\", \"Default\", \"Default\", \"Default\", \"Default\", \"Default\", \"Default\", \"Default\", \"Default\", \"Default\", \"Default\", \"Default\", \"Default\", \"Default\", \"Default\", \"Default\", \"Default\", \"Topic1\", \"Topic1\", \"Topic1\", \"Topic1\", \"Topic1\", \"Topic1\", \"Topic1\", \"Topic1\", \"Topic1\", \"Topic1\", \"Topic1\", \"Topic1\", \"Topic1\", \"Topic1\", \"Topic1\", \"Topic1\", \"Topic1\", \"Topic1\", \"Topic1\", \"Topic1\", \"Topic1\", \"Topic1\", \"Topic1\", \"Topic1\", \"Topic1\", \"Topic1\", \"Topic1\", \"Topic1\", \"Topic1\", \"Topic1\", \"Topic1\", \"Topic1\", \"Topic1\", \"Topic1\", \"Topic1\", \"Topic1\", \"Topic1\", \"Topic1\", \"Topic2\", \"Topic2\", \"Topic2\", \"Topic2\", \"Topic2\", \"Topic2\", \"Topic2\", \"Topic2\", \"Topic2\", \"Topic2\", \"Topic2\", \"Topic2\", \"Topic2\", \"Topic2\", \"Topic2\", \"Topic2\", \"Topic2\", \"Topic2\", \"Topic2\", \"Topic2\", \"Topic2\", \"Topic2\", \"Topic2\", \"Topic2\", \"Topic2\", \"Topic2\", \"Topic2\", \"Topic2\", \"Topic2\", \"Topic2\", \"Topic2\", \"Topic2\", \"Topic2\", \"Topic2\", \"Topic2\", \"Topic2\", \"Topic2\", \"Topic3\", \"Topic3\", \"Topic3\", \"Topic3\", \"Topic3\", \"Topic3\", \"Topic3\", \"Topic3\", \"Topic3\", \"Topic3\", \"Topic3\", \"Topic3\", \"Topic3\", \"Topic3\", \"Topic3\", \"Topic3\", \"Topic3\", \"Topic3\", \"Topic3\", \"Topic3\", \"Topic3\", \"Topic3\", \"Topic3\", \"Topic3\", \"Topic3\", \"Topic3\", \"Topic3\", \"Topic3\", \"Topic3\", \"Topic3\", \"Topic3\", \"Topic4\", \"Topic4\", \"Topic4\", \"Topic4\", \"Topic4\", \"Topic4\", \"Topic4\", \"Topic4\", \"Topic4\", \"Topic4\", \"Topic4\", \"Topic4\", \"Topic4\", \"Topic4\", \"Topic4\", \"Topic4\", \"Topic4\", \"Topic4\", \"Topic4\", \"Topic4\", \"Topic4\", \"Topic4\", \"Topic4\", \"Topic4\", \"Topic4\", \"Topic4\", \"Topic4\", \"Topic4\", \"Topic4\", \"Topic4\", \"Topic4\", \"Topic4\", \"Topic4\", \"Topic4\", \"Topic4\", \"Topic5\", \"Topic5\", \"Topic5\", \"Topic5\", \"Topic5\", \"Topic5\", \"Topic5\", \"Topic5\", \"Topic5\", \"Topic5\", \"Topic5\", \"Topic5\", \"Topic5\", \"Topic5\", \"Topic5\", \"Topic5\", \"Topic5\", \"Topic5\", \"Topic5\", \"Topic5\", \"Topic5\", \"Topic5\", \"Topic5\", \"Topic5\", \"Topic5\", \"Topic5\", \"Topic5\", \"Topic5\", \"Topic5\", \"Topic5\", \"Topic5\", \"Topic5\", \"Topic5\", \"Topic6\", \"Topic6\", \"Topic6\", \"Topic6\", \"Topic6\", \"Topic6\", \"Topic6\", \"Topic6\", \"Topic6\", \"Topic6\", \"Topic6\", \"Topic6\", \"Topic6\", \"Topic6\", \"Topic6\", \"Topic6\", \"Topic6\", \"Topic6\", \"Topic6\", \"Topic6\", \"Topic6\", \"Topic6\", \"Topic6\", \"Topic6\", \"Topic6\", \"Topic6\", \"Topic6\", \"Topic6\", \"Topic6\", \"Topic6\", \"Topic6\", \"Topic7\", \"Topic7\", \"Topic7\", \"Topic7\", \"Topic7\", \"Topic7\", \"Topic7\", \"Topic7\", \"Topic7\", \"Topic7\", \"Topic7\", \"Topic7\", \"Topic7\", \"Topic7\", \"Topic7\", \"Topic7\", \"Topic7\", \"Topic7\", \"Topic7\", \"Topic7\", \"Topic7\", \"Topic7\", \"Topic7\", \"Topic7\", \"Topic7\", \"Topic7\", \"Topic7\", \"Topic7\", \"Topic7\", \"Topic7\", \"Topic7\", \"Topic7\", \"Topic7\", \"Topic7\", \"Topic7\", \"Topic7\", \"Topic7\", \"Topic7\", \"Topic7\", \"Topic7\", \"Topic7\", \"Topic7\", \"Topic7\", \"Topic7\", \"Topic7\", \"Topic8\", \"Topic8\", \"Topic8\", \"Topic8\", \"Topic8\", \"Topic8\", \"Topic8\", \"Topic8\", \"Topic8\", \"Topic8\", \"Topic8\", \"Topic8\", \"Topic8\", \"Topic8\", \"Topic8\", \"Topic8\", \"Topic8\", \"Topic8\", \"Topic8\", \"Topic8\", \"Topic8\", \"Topic8\", \"Topic8\", \"Topic8\", \"Topic8\", \"Topic8\", \"Topic8\", \"Topic8\", \"Topic8\", \"Topic8\", \"Topic8\", \"Topic8\", \"Topic8\", \"Topic9\", \"Topic9\", \"Topic9\", \"Topic9\", \"Topic9\", \"Topic9\", \"Topic9\", \"Topic9\", \"Topic9\", \"Topic9\", \"Topic9\", \"Topic9\", \"Topic9\", \"Topic9\", \"Topic9\", \"Topic9\", \"Topic9\", \"Topic9\", \"Topic9\", \"Topic9\", \"Topic9\", \"Topic9\", \"Topic9\", \"Topic9\", \"Topic9\", \"Topic9\", \"Topic9\", \"Topic9\", \"Topic9\", \"Topic9\", \"Topic9\", \"Topic9\", \"Topic10\", \"Topic10\", \"Topic10\", \"Topic10\", \"Topic10\", \"Topic10\", \"Topic10\", \"Topic10\", \"Topic10\", \"Topic10\", \"Topic10\", \"Topic10\", \"Topic10\", \"Topic10\", \"Topic10\", \"Topic10\", \"Topic10\", \"Topic10\", \"Topic10\", \"Topic10\", \"Topic10\", \"Topic10\", \"Topic10\", \"Topic10\", \"Topic10\", \"Topic10\", \"Topic10\", \"Topic10\", \"Topic10\", \"Topic10\", \"Topic10\", \"Topic10\", \"Topic10\", \"Topic10\", \"Topic10\", \"Topic10\", \"Topic11\", \"Topic11\", \"Topic11\", \"Topic11\", \"Topic11\", \"Topic11\", \"Topic11\", \"Topic11\", \"Topic11\", \"Topic11\", \"Topic11\", \"Topic11\", \"Topic11\", \"Topic11\", \"Topic11\", \"Topic11\", \"Topic11\", \"Topic11\", \"Topic11\", \"Topic11\", \"Topic11\", \"Topic11\", \"Topic11\", \"Topic11\", \"Topic11\", \"Topic11\", \"Topic11\", \"Topic11\", \"Topic11\", \"Topic11\", \"Topic11\", \"Topic11\", \"Topic11\", \"Topic11\", \"Topic12\", \"Topic12\", \"Topic12\", \"Topic12\", \"Topic12\", \"Topic12\", \"Topic12\", \"Topic12\", \"Topic12\", \"Topic12\", \"Topic12\", \"Topic12\", \"Topic12\", \"Topic12\", \"Topic12\", \"Topic12\", \"Topic12\", \"Topic12\", \"Topic12\", \"Topic12\", \"Topic12\", \"Topic12\", \"Topic12\", \"Topic12\", \"Topic12\", \"Topic12\", \"Topic12\", \"Topic12\", \"Topic12\", \"Topic12\", \"Topic12\", \"Topic12\", \"Topic13\", \"Topic13\", \"Topic13\", \"Topic13\", \"Topic13\", \"Topic13\", \"Topic13\", \"Topic13\", \"Topic13\", \"Topic13\", \"Topic13\", \"Topic13\", \"Topic13\", \"Topic13\", \"Topic13\", \"Topic13\", \"Topic13\", \"Topic13\", \"Topic13\", \"Topic13\", \"Topic13\", \"Topic13\", \"Topic13\", \"Topic13\", \"Topic13\", \"Topic13\", \"Topic13\", \"Topic13\", \"Topic13\", \"Topic13\", \"Topic13\", \"Topic13\", \"Topic14\", \"Topic14\", \"Topic14\", \"Topic14\", \"Topic14\", \"Topic14\", \"Topic14\", \"Topic14\", \"Topic14\", \"Topic14\", \"Topic14\", \"Topic14\", \"Topic14\", \"Topic14\", \"Topic14\", \"Topic14\", \"Topic14\", \"Topic14\", \"Topic14\", \"Topic14\", \"Topic14\", \"Topic14\", \"Topic14\", \"Topic14\", \"Topic14\", \"Topic14\", \"Topic14\", \"Topic14\", \"Topic14\", \"Topic14\", \"Topic14\", \"Topic15\", \"Topic15\", \"Topic15\", \"Topic15\", \"Topic15\", \"Topic15\", \"Topic15\", \"Topic15\", \"Topic15\", \"Topic15\", \"Topic15\", \"Topic15\", \"Topic15\", \"Topic15\", \"Topic15\", \"Topic15\", \"Topic15\", \"Topic15\", \"Topic15\", \"Topic15\", \"Topic15\", \"Topic15\", \"Topic15\", \"Topic15\", \"Topic15\", \"Topic15\", \"Topic15\", \"Topic15\", \"Topic15\", \"Topic15\", \"Topic15\"], \"Freq\": [51.0, 42.0, 47.0, 38.0, 69.0, 36.0, 21.0, 22.0, 21.0, 22.0, 20.0, 22.0, 62.0, 114.0, 21.0, 28.0, 36.0, 59.0, 18.0, 20.0, 19.0, 20.0, 19.0, 17.0, 16.0, 22.0, 16.0, 16.0, 16.0, 27.0, 12.42291259765625, 8.676027297973633, 8.178951263427734, 7.5741400718688965, 7.354559421539307, 7.1631975173950195, 6.328879356384277, 9.253861427307129, 5.783438205718994, 5.467230319976807, 5.273844242095947, 4.766773700714111, 4.5385003089904785, 3.985503911972046, 3.7041566371917725, 7.832292556762695, 2.3206701278686523, 2.3206655979156494, 6.447798252105713, 14.387165069580078, 8.093714714050293, 6.402267932891846, 10.00536060333252, 4.622527122497559, 11.626363754272461, 3.246922731399536, 1.7910288572311401, 0.06648172438144684, 0.0646093413233757, 0.06345536559820175, 0.06596416980028152, 0.06594647467136383, 3.0001745223999023, 0.06853443384170532, 0.06791780889034271, 0.07053979486227036, 1.155138611793518, 0.3030312955379486, 15.893050193786621, 15.486592292785645, 9.536542892456055, 6.8298726081848145, 19.63027000427246, 5.497824192047119, 4.701823711395264, 4.611532211303711, 16.574939727783203, 3.6179561614990234, 3.617905855178833, 13.236968994140625, 2.9785144329071045, 2.2905678749084473, 2.0424439907073975, 1.6436131000518799, 1.398215651512146, 7.689661026000977, 11.547369003295898, 2.315502643585205, 3.1509315967559814, 4.870162010192871, 4.103593826293945, 1.345971703529358, 4.395931243896484, 0.07126902788877487, 0.0773545578122139, 0.06911277770996094, 0.06960571557283401, 0.06849007308483124, 0.07220195233821869, 5.731128215789795, 2.6899635791778564, 0.07323280721902847, 1.174203634262085, 0.4077170193195343, 0.645584225654602, 14.506796836853027, 10.128013610839844, 7.760781288146973, 7.5116658210754395, 6.305675029754639, 6.268685340881348, 5.454442501068115, 5.160617828369141, 4.970221996307373, 4.970212936401367, 13.050989151000977, 4.639885902404785, 4.5325751304626465, 4.342160224914551, 4.10418701171875, 7.602503776550293, 3.145808219909668, 2.861201763153076, 2.4326813220977783, 2.419717788696289, 1.6050509214401245, 1.6050498485565186, 1.3632014989852905, 8.50548267364502, 5.481256008148193, 23.652433395385742, 5.998942852020264, 3.8034517765045166, 2.6237382888793945, 1.291310429573059, 2.13163161277771, 15.131352424621582, 11.66139030456543, 8.651968955993652, 7.460649490356445, 6.950516223907471, 6.70842981338501, 6.294712066650391, 5.667189598083496, 11.94376277923584, 7.961916923522949, 3.6306910514831543, 2.5272769927978516, 2.1822874546051025, 1.9295916557312012, 1.9295897483825684, 1.7347869873046875, 1.2290691137313843, 1.2290675640106201, 1.2290525436401367, 7.48897647857666, 6.380765438079834, 15.565437316894531, 6.192626476287842, 8.55791187286377, 15.267452239990234, 4.181186199188232, 5.820209980010986, 0.06975402683019638, 0.070183165371418, 0.07169495522975922, 1.4312564134597778, 0.07291732728481293, 0.07723404467105865, 1.0517019033432007, 0.4066920876502991, 18.83758544921875, 10.074962615966797, 8.466365814208984, 7.5467448234558105, 7.080035209655762, 19.627971649169922, 5.102099895477295, 4.338932991027832, 3.7288646697998047, 3.674708843231201, 2.6168951988220215, 2.4196982383728027, 2.3607871532440186, 2.3020777702331543, 2.1155481338500977, 1.6967475414276123, 1.696742296218872, 1.6967413425445557, 1.4410877227783203, 1.441080927848816, 1.2439594268798828, 21.537145614624023, 5.848156929016113, 3.659677743911743, 9.81496810913086, 4.438820838928223, 2.2131130695343018, 12.155292510986328, 0.07640795409679413, 0.07657965272665024, 3.30896258354187, 0.8967157006263733, 2.1289420127868652, 12.718671798706055, 10.940958023071289, 10.461374282836914, 9.335895538330078, 7.748027801513672, 11.20504379272461, 13.756166458129883, 16.781822204589844, 5.213242053985596, 4.662590980529785, 4.567858695983887, 4.054659366607666, 3.7645034790039062, 2.358480215072632, 2.1766927242279053, 4.507538795471191, 1.9408986568450928, 1.9408938884735107, 5.126725673675537, 9.724091529846191, 1.5644313097000122, 7.3823018074035645, 1.328710913658142, 1.1469424962997437, 1.1469393968582153, 11.068305969238281, 3.912522792816162, 2.793579578399658, 0.963259220123291, 5.388514518737793, 1.6431986093521118, 12.228658676147461, 8.35452938079834, 6.411197662353516, 6.014102458953857, 5.820754051208496, 5.820724964141846, 4.1174635887146, 3.825629234313965, 3.4808831214904785, 3.3347439765930176, 2.698472023010254, 13.92803955078125, 1.627049446105957, 18.843887329101562, 13.2813081741333, 10.972871780395508, 15.138415336608887, 8.198357582092285, 14.080964088439941, 2.562288999557495, 3.6428580284118652, 5.2526702880859375, 0.06801442801952362, 0.06832528859376907, 0.06814269721508026, 0.06745833158493042, 0.06745833158493042, 0.06694604456424713, 0.06929946690797806, 0.06742272526025772, 3.1301066875457764, 1.0768303871154785, 0.06898843497037888, 0.06920265406370163, 5.227818965911865, 0.0706464871764183, 0.07078439742326736, 0.07050646841526031, 0.6648724675178528, 0.07071962207555771, 0.07387345284223557, 0.3329209089279175, 0.07103955745697021, 0.07116586714982986, 0.14246149361133575, 15.266539573669434, 16.088773727416992, 9.888030052185059, 9.8685884475708, 7.502664566040039, 7.489574432373047, 6.403824806213379, 10.85781192779541, 11.878077507019043, 4.159359455108643, 3.713438034057617, 7.1431498527526855, 3.563511610031128, 3.5249712467193604, 3.3797335624694824, 3.174131155014038, 3.02284836769104, 2.9337239265441895, 2.2561185359954834, 3.1228201389312744, 1.6215215921401978, 2.929565668106079, 8.837397575378418, 4.895677089691162, 6.960196495056152, 1.3965691328048706, 11.063921928405762, 0.0735173225402832, 0.06986962258815765, 0.07128269225358963, 3.6726722717285156, 2.788417339324951, 0.7207562923431396, 17.537580490112305, 9.051085472106934, 6.170074462890625, 5.831072807312012, 5.551633834838867, 5.313547611236572, 4.4739227294921875, 4.273630619049072, 3.473958969116211, 3.4213085174560547, 3.05450701713562, 2.3815419673919678, 2.1433327198028564, 1.8182979822158813, 11.788078308105469, 1.3416959047317505, 4.669885635375977, 8.911385536193848, 7.117884635925293, 4.9929046630859375, 10.745268821716309, 5.033787727355957, 25.574140548706055, 10.548768043518066, 3.104121685028076, 5.164727687835693, 1.0020581483840942, 0.07216453552246094, 2.407123327255249, 0.06643868237733841, 3.95527720451355, 0.9689137935638428, 14.09487247467041, 19.498987197875977, 9.533470153808594, 8.33183479309082, 7.746395111083984, 7.6426897048950195, 6.434122562408447, 16.986583709716797, 7.866462707519531, 5.990938186645508, 5.45932149887085, 5.214926242828369, 4.927134990692139, 3.9159481525421143, 2.746028423309326, 2.01224684715271, 1.3775689601898193, 1.3775509595870972, 1.189115285873413, 6.017020225524902, 3.2692549228668213, 11.879528999328613, 9.049837112426758, 7.603403568267822, 0.5063998103141785, 1.6497812271118164, 1.1689406633377075, 0.07645818591117859, 0.07245234400033951, 0.06785377115011215, 0.06798458844423294, 0.07085475325584412, 0.7524011135101318, 4.875158786773682, 0.47235098481178284, 0.4992935061454773, 10.710088729858398, 10.132235527038574, 7.900109767913818, 5.478759288787842, 5.474667072296143, 5.474649429321289, 5.433541297912598, 5.239861011505127, 5.0588274002075195, 4.857763290405273, 4.214369773864746, 3.6084840297698975, 5.642606258392334, 8.7708740234375, 1.5578356981277466, 1.472329020500183, 1.3230911493301392, 2.874044895172119, 20.84141731262207, 21.353382110595703, 17.522125244140625, 6.818338394165039, 8.827773094177246, 1.135522484779358, 1.5186752080917358, 1.9333950281143188, 0.07487377524375916, 0.07009284943342209, 0.0701831802725792, 0.06863974779844284, 6.159095764160156, 1.3108018636703491, 0.11258404701948166, 0.09556867927312851, 7.553277492523193, 6.300238132476807, 5.628556251525879, 5.177582263946533, 5.132428169250488, 17.86003875732422, 3.7129714488983154, 12.030569076538086, 3.2081756591796875, 2.547081232070923, 2.0961153507232666, 1.944691777229309, 1.6895346641540527, 1.2386854887008667, 3.619286298751831, 17.959575653076172, 9.362626075744629, 6.7589263916015625, 17.20633888244629, 7.37725830078125, 3.4632229804992676, 1.8439605236053467, 3.484675645828247, 1.1992424726486206, 7.1501994132995605, 1.023021936416626, 1.6079703569412231, 7.057453155517578, 2.3383450508117676, 0.07246910780668259, 2.305812120437622, 6.559813976287842, 14.00897216796875, 11.435357093811035, 11.558734893798828, 8.205085754394531, 17.52556037902832, 5.729475021362305, 4.803053379058838, 4.65273904800415, 4.407155990600586, 3.5801916122436523, 3.5800952911376953, 3.5282082557678223, 3.3392527103424072, 2.8477938175201416, 9.537219047546387, 2.26665997505188, 1.831756353378296, 1.383638858795166, 1.3836179971694946, 1.1943496465682983, 16.044294357299805, 8.273204803466797, 11.263411521911621, 5.232993125915527, 1.153873085975647, 2.0073580741882324, 4.012348175048828, 5.110683441162109, 2.7141926288604736, 3.616549491882324, 1.6641278266906738, 1.2268933057785034, 14.777256965637207, 12.925403594970703, 12.715009689331055, 11.709327697753906, 10.030818939208984, 7.317397117614746, 4.887728214263916, 10.957761764526367, 11.147623062133789, 3.5369632244110107, 3.27691650390625, 3.1222848892211914, 2.8621394634246826, 2.6616251468658447, 2.601686716079712, 2.6016616821289062, 8.275606155395508, 1.9404518604278564, 1.7257392406463623, 1.7257347106933594, 1.4657433032989502, 1.465730905532837, 1.4657214879989624, 10.306960105895996, 1.2652461528778076, 5.672475337982178, 4.046900272369385, 9.547018051147461, 1.6231026649475098, 3.3293137550354004, 2.555497407913208, 19.996889114379883, 12.401253700256348, 10.037407875061035, 9.870929718017578, 5.92478084564209, 5.069456577301025, 4.506537914276123, 18.465328216552734, 3.467684745788574, 3.4676592350006104, 3.430133104324341, 3.092569589614868, 10.990222930908203, 10.450652122497559, 2.378787040710449, 2.1954429149627686, 2.1954269409179688, 1.340160846710205, 1.1568012237548828, 5.188823699951172, 6.8223557472229, 2.519111156463623, 1.604636788368225, 7.635622024536133, 7.371246814727783, 0.973814845085144, 2.1971702575683594, 2.9028685092926025, 8.709501266479492, 2.5007457733154297, 1.7430095672607422], \"Term\": [\"error\", \"add\", \"create\", \"change\", \"image\", \"screen\", \"route\", \"list\", \"value\", \"page\", \"function\", \"navigator\", \"use\", \"widget\", \"build\", \"file\", \"make\", \"text\", \"line\", \"view\", \"button\", \"set\", \"test\", \"icon\", \"type\", \"android\", \"multiple\", \"position\", \"string\", \"size\", \"setstate\", \"get\", \"navigation\", \"bar\", \"push\", \"builder\", \"overflow\", \"border\", \"draw\", \"input\", \"parameter\", \"circular\", \"keep\", \"rounded\", \"instead\", \"detect\", \"connect\", \"style\", \"firebase\", \"android\", \"project\", \"state\", \"error\", \"app\", \"widget\", \"create\", \"size\", \"automatically\", \"invalid\", \"password\", \"assign\", \"service\", \"text\", \"trigger\", \"unit\", \"press\", \"use\", \"icon\", \"type\", \"multiple\", \"dynamic\", \"native\", \"page\", \"variable\", \"enter\", \"underline\", \"set\", \"futurebuilder\", \"able\", \"textfield\", \"fit\", \"framework\", \"space\", \"receive\", \"filter\", \"find\", \"app\", \"object\", \"build\", \"change\", \"make\", \"pass\", \"use\", \"assign\", \"press\", \"provider\", \"lose\", \"datetime\", \"specific\", \"widget\", \"error\", \"trigger\", \"screen\", \"function\", \"text\", \"parent\", \"name\", \"class\", \"picker\", \"horizontal\", \"unable\", \"cause\", \"element\", \"viewport\", \"rotate\", \"android_studio\", \"clear\", \"multi\", \"stack\", \"transparent\", \"dialog\", \"layout\", \"path\", \"listen\", \"inside\", \"avatar\", \"include\", \"video\", \"package\", \"new\", \"error\", \"height\", \"version\", \"possible\", \"custom\", \"image\", \"string\", \"bottom\", \"message\", \"child\", \"scrolling\", \"key\", \"format\", \"stateful\", \"pass\", \"sdk\", \"big\", \"release\", \"intent\", \"mean\", \"contain\", \"vertically\", \"closure\", \"accord\", \"statelesswidget\", \"open\", \"package\", \"image\", \"listview\", \"create\", \"widget\", \"screen\", \"use\", \"italicize\", \"argument\", \"library\", \"page\", \"double\", \"press\", \"size\", \"route\", \"function\", \"map\", \"effect\", \"number\", \"local\", \"list\", \"leave\", \"subtype\", \"statement\", \"place\", \"round\", \"develop\", \"resolve\", \"force\", \"statefulwidget\", \"import\", \"loading\", \"encode\", \"web\", \"license\", \"resize\", \"change\", \"open\", \"card\", \"make\", \"color\", \"height\", \"widget\", \"unit\", \"trigger\", \"image\", \"textfield\", \"create\", \"scroll\", \"dart\", \"different\", \"base\", \"option\", \"full\", \"device\", \"test\", \"complete\", \"define\", \"expand\", \"close\", \"startup\", \"mode\", \"box\", \"command\", \"cache\", \"unbounded\", \"support\", \"future\", \"put\", \"keyboard\", \"react\", \"inherit\", \"even\", \"size\", \"padding\", \"load\", \"dialog\", \"text\", \"button\", \"item\", \"container\", \"user\", \"exist\", \"top\", \"store\", \"constructor\", \"replace\", \"target\", \"gridview\", \"drop\", \"call\", \"back\", \"screen\", \"file\", \"size\", \"add\", \"app\", \"image\", \"background\", \"listview\", \"text\", \"require\", \"information\", \"activity\", \"interaction\", \"sms\", \"password\", \"send\", \"startactivity\", \"create\", \"textfield\", \"upgrade\", \"login\", \"widget\", \"double\", \"point\", \"write\", \"value\", \"specific\", \"press\", \"line\", \"unit\", \"trigger\", \"use\", \"position\", \"icon\", \"update\", \"testing\", \"scrollable\", \"time\", \"column\", \"hide\", \"custom\", \"stream\", \"play\", \"exception\", \"scene\", \"theme\", \"header\", \"connection\", \"restart\", \"body\", \"studio\", \"expect\", \"center\", \"row\", \"color\", \"call\", \"change\", \"display\", \"widget\", \"unit\", \"cloud\", \"write\", \"image\", \"text\", \"datum\", \"line\", \"property\", \"initstate\", \"dependency\", \"appear\", \"return\", \"notification\", \"splash\", \"field\", \"pop\", \"asset\", \"save\", \"switch\", \"install\", \"state\", \"dev\", \"card\", \"project\", \"height\", \"tab\", \"file\", \"work\", \"widget\", \"error\", \"find\", \"app\", \"show\", \"trigger\", \"make\", \"product\", \"use\", \"image\", \"current\", \"value\", \"tap\", \"code\", \"context\", \"reload\", \"orientation\", \"button\", \"nest\", \"focus\", \"bad\", \"already\", \"divider\", \"vertical\", \"action\", \"available\", \"parse\", \"delay\", \"configure\", \"tab\", \"future\", \"use\", \"create\", \"text\", \"expect\", \"test\", \"device\", \"press\", \"trigger\", \"streambuilder\", \"activity\", \"point\", \"full\", \"widget\", \"request\", \"error\", \"width\", \"remove\", \"animation\", \"method\", \"float\", \"indicator\", \"align\", \"wait\", \"onpresse\", \"single\", \"paragraph\", \"throw\", \"access\", \"padding\", \"start\", \"emulator\", \"pub\", \"render\", \"create\", \"text\", \"image\", \"color\", \"use\", \"firebase\", \"show\", \"view\", \"press\", \"networkimage\", \"trigger\", \"point\", \"widget\", \"change\", \"find\", \"open\", \"give\", \"check\", \"network\", \"index\", \"infinite\", \"build\", \"condition\", \"object\", \"read\", \"title\", \"doctor\", \"lock\", \"host\", \"block\", \"row\", \"add\", \"color\", \"android\", \"use\", \"listview\", \"work\", \"detect\", \"navigator\", \"firebase\", \"text\", \"sdk\", \"android_studio\", \"image\", \"size\", \"assign\", \"app\", \"widget\", \"run\", \"handle\", \"difference\", \"default\", \"view\", \"share\", \"right\", \"move\", \"phone\", \"wrapping\", \"sheet\", \"date\", \"material\", \"take\", \"background\", \"dismiss\", \"corner\", \"dial\", \"operation\", \"horizontally\", \"make\", \"find\", \"listview\", \"datum\", \"command\", \"way\", \"file\", \"text\", \"change\", \"error\", \"widget\", \"color\", \"fail\", \"firestore\", \"plugin\", \"disable\", \"select\", \"click\", \"event\", \"display\", \"way\", \"storage\", \"main\", \"prevent\", \"correct\", \"instal\", \"good\", \"progress\", \"load\", \"environment\", \"correctly\", \"dispose\", \"game\", \"present\", \"httpexception\", \"datum\", \"window\", \"version\", \"keyboard\", \"screen\", \"support\", \"set\", \"image\", \"route\", \"application\", \"implement\", \"request\", \"exit\", \"pageview\", \"tabbar\", \"navigator\", \"back_button\", \"bold\", \"navigate\", \"equivalent\", \"show\", \"possible\", \"setup\", \"visual\", \"shadow\", \"swipe\", \"myapp\", \"new\", \"work\", \"render\", \"access\", \"add\", \"use\", \"exception\", \"list\", \"make\", \"widget\", \"screen\", \"image\"], \"Total\": [51.0, 42.0, 47.0, 38.0, 69.0, 36.0, 21.0, 22.0, 21.0, 22.0, 20.0, 22.0, 62.0, 114.0, 21.0, 28.0, 36.0, 59.0, 18.0, 20.0, 19.0, 20.0, 19.0, 17.0, 16.0, 22.0, 16.0, 16.0, 16.0, 27.0, 13.348121643066406, 9.601250648498535, 9.105691909790039, 8.49931812286377, 8.279735565185547, 8.088375091552734, 7.254055976867676, 10.634614944458008, 6.755855083465576, 6.392405033111572, 6.204245090484619, 5.69195032119751, 5.463675022125244, 4.910681247711182, 4.629332065582275, 10.559893608093262, 3.245846748352051, 3.245842218399048, 9.576081275939941, 22.917606353759766, 17.866235733032227, 19.05296516418457, 51.7442626953125, 33.67233657836914, 114.9652099609375, 47.577423095703125, 27.906665802001953, 1.0481823682785034, 1.019253134727478, 1.001249074935913, 1.0414912700653076, 1.0412951707839966, 59.396541595458984, 1.0853407382965088, 1.0773953199386597, 1.1361405849456787, 62.13631820678711, 17.25324249267578, 16.81597137451172, 16.407459259033203, 10.457386016845703, 7.750712871551514, 22.805749893188477, 6.418667793273926, 5.62266731262207, 5.532374858856201, 20.756338119506836, 4.5388007164001465, 4.538751125335693, 16.674882888793945, 3.899355411529541, 3.211409330368042, 2.963284492492676, 2.5670247077941895, 2.3190574645996094, 19.907155990600586, 33.67233657836914, 15.19841480255127, 21.863344192504883, 38.234466552734375, 36.241249084472656, 14.142791748046875, 62.13631820678711, 1.0414912700653076, 1.1361405849456787, 1.0188860893249512, 1.0274436473846436, 1.0116583108901978, 1.0667818784713745, 114.9652099609375, 51.7442626953125, 1.0853407382965088, 36.91084289550781, 20.137001037597656, 59.396541595458984, 15.4293212890625, 11.05052661895752, 8.69321060180664, 8.434178352355957, 7.228187084197998, 7.191198348999023, 6.376954555511475, 6.083145618438721, 5.892734527587891, 5.892725467681885, 15.538209915161133, 5.562398433685303, 5.4550886154174805, 5.264673709869385, 5.026699066162109, 9.424847602844238, 4.068321228027344, 3.7837140560150146, 3.355193853378296, 3.342230796813965, 2.527564525604248, 2.5275633335113525, 2.285714626312256, 15.740795135498047, 11.52863883972168, 51.7442626953125, 16.168495178222656, 10.328471183776855, 13.932943344116211, 14.04619312286377, 69.10327911376953, 16.051937103271484, 12.595629692077637, 9.571712493896484, 8.380268096923828, 7.870254993438721, 7.628047943115234, 7.21436071395874, 6.586807727813721, 14.142791748046875, 9.83607292175293, 4.550309658050537, 3.4469094276428223, 3.1019070148468018, 2.8492109775543213, 2.8492090702056885, 2.6544055938720703, 2.1486880779266357, 2.148686647415161, 2.1486713886260986, 14.22037124633789, 15.740795135498047, 69.10327911376953, 29.25353240966797, 47.577423095703125, 114.9652099609375, 36.91084289550781, 62.13631820678711, 1.0088027715682983, 1.0169038772583008, 1.0388883352279663, 22.805749893188477, 1.0598149299621582, 1.1361405849456787, 27.906665802001953, 21.29353141784668, 20.137001037597656, 10.993758201599121, 9.385161399841309, 8.465539932250977, 7.9988298416137695, 22.981182098388672, 6.020895481109619, 5.257727146148682, 4.647663116455078, 4.593504428863525, 3.5356898307800293, 3.3384928703308105, 3.2795825004577637, 3.2208738327026367, 3.03434419631958, 2.615543842315674, 2.6155385971069336, 2.615537643432617, 2.3598835468292236, 2.359876871109009, 2.162754774093628, 38.234466552734375, 14.22037124633789, 9.18659496307373, 36.241249084472656, 31.34621810913086, 16.168495178222656, 114.9652099609375, 1.0773953199386597, 1.0853407382965088, 69.10327911376953, 16.674882888793945, 47.577423095703125, 13.643186569213867, 11.865995407104492, 11.385533332824707, 10.260055541992188, 8.672188758850098, 12.815844535827637, 15.783645629882812, 19.5821475982666, 6.188055992126465, 5.5867509841918945, 5.492034435272217, 4.978817462921143, 4.688667297363281, 3.282640218734741, 3.1008522510528564, 6.519522190093994, 2.8650574684143066, 2.8650529384613037, 7.604019641876221, 14.91381549835205, 2.4885916709899902, 12.283406257629395, 2.252870559692383, 2.071101665496826, 2.071098566055298, 27.906665802001953, 13.544397354125977, 11.923377990722656, 9.424847602844238, 59.396541595458984, 19.488380432128906, 13.168257713317871, 9.279805183410645, 7.332817077636719, 6.935722351074219, 6.742376804351807, 6.742348670959473, 5.039082050323486, 4.747248649597168, 4.402501583099365, 4.256363868713379, 3.6200921535491943, 19.684295654296875, 2.5486700534820557, 36.91084289550781, 28.833730697631836, 27.906665802001953, 42.10639190673828, 33.67233657836914, 69.10327911376953, 12.958172798156738, 29.25353240966797, 59.396541595458984, 1.0168932676315308, 1.0215845108032227, 1.0188732147216797, 1.0087621212005615, 1.0087621212005615, 1.001249074935913, 1.0366246700286865, 1.0087676048278809, 47.577423095703125, 16.674882888793945, 1.0322819948196411, 1.0355899333953857, 114.9652099609375, 1.0598149299621582, 1.0631030797958374, 1.0599615573883057, 21.33425521850586, 1.0667818784713745, 1.1361405849456787, 18.72807502746582, 1.0773953199386597, 1.0853407382965088, 62.13631820678711, 16.188392639160156, 17.25324249267578, 10.809896469116211, 10.790433883666992, 8.42451000213623, 8.411419868469238, 7.325668811798096, 12.487979888916016, 14.04619312286377, 5.081203937530518, 4.635282039642334, 8.974836349487305, 4.485360622406006, 4.446815490722656, 4.301578044891357, 4.099802017211914, 3.9446940422058105, 3.8555686473846436, 3.1779634952545166, 4.48530912399292, 2.543367624282837, 7.402196407318115, 31.34621810913086, 19.684295654296875, 38.234466552734375, 13.206214904785156, 114.9652099609375, 1.0773953199386597, 1.0388858318328857, 1.0599615573883057, 69.10327911376953, 59.396541595458984, 17.0466365814209, 18.72807502746582, 9.974624633789062, 7.093616962432861, 6.758816242218018, 6.4751739501953125, 6.237087726593018, 5.397461414337158, 5.197170734405518, 4.399979114532471, 4.344850540161133, 3.9780449867248535, 3.305081367492676, 3.0668723583221436, 2.7418367862701416, 19.05296516418457, 2.265235185623169, 9.18659496307373, 17.866235733032227, 16.168495178222656, 12.949800491333008, 28.833730697631836, 16.110546112060547, 114.9652099609375, 51.7442626953125, 19.907155990600586, 33.67233657836914, 14.307363510131836, 1.0853407382965088, 36.241249084472656, 1.0213837623596191, 62.13631820678711, 69.10327911376953, 15.016868591308594, 21.33425521850586, 10.455307960510254, 9.253663063049316, 8.668318748474121, 8.564518928527832, 7.355950355529785, 19.488380432128906, 9.047874450683594, 6.912766456604004, 6.381150245666504, 6.136754035949707, 5.84897518157959, 4.837775230407715, 3.6678555011749268, 2.9340739250183105, 2.2993972301483154, 2.299379348754883, 2.110943555831909, 12.949800491333008, 14.91381549835205, 62.13631820678711, 47.577423095703125, 59.396541595458984, 4.48530912399292, 19.5821475982666, 15.783645629882812, 1.1361405849456787, 1.0853407382965088, 1.016899824142456, 1.0188732147216797, 1.0631030797958374, 12.815844535827637, 114.9652099609375, 11.201146125793457, 51.7442626953125, 11.63451862335205, 11.0567045211792, 8.82491397857666, 6.403186321258545, 6.39909553527832, 6.399077892303467, 6.357968330383301, 6.164288520812988, 5.983254909515381, 5.782225131988525, 5.138798236846924, 4.5329132080078125, 8.107697486877441, 13.544397354125977, 2.4822638034820557, 2.396756887435913, 2.24751877784729, 6.2536091804504395, 47.577423095703125, 59.396541595458984, 69.10327911376953, 31.34621810913086, 62.13631820678711, 9.576081275939941, 14.307363510131836, 20.317352294921875, 1.1361405849456787, 1.0781049728393555, 1.0853407382965088, 1.0631030797958374, 114.9652099609375, 38.234466552734375, 19.907155990600586, 14.22037124633789, 8.472433090209961, 7.219325065612793, 6.547644138336182, 6.096672058105469, 6.051538467407227, 21.863344192504883, 4.632061958312988, 15.19841480255127, 4.127262592315674, 3.4661686420440674, 3.015202045440674, 2.863779067993164, 2.6086230278015137, 2.1577727794647217, 7.402196407318115, 42.10639190673828, 31.34621810913086, 22.917606353759766, 62.13631820678711, 29.25353240966797, 16.110546112060547, 10.559893608093262, 22.805774688720703, 9.576081275939941, 59.396541595458984, 9.83607292175293, 15.538209915161133, 69.10327911376953, 27.906665802001953, 1.0414912700653076, 33.67233657836914, 114.9652099609375, 14.946647644042969, 12.356917381286621, 12.808221817016602, 9.126853942871094, 20.317352294921875, 6.651190757751465, 5.72459077835083, 5.574278354644775, 5.328695297241211, 4.501732349395752, 4.501636505126953, 4.449746131896973, 4.26078987121582, 3.769331693649292, 12.958172798156738, 3.1881978511810303, 2.7532947063446045, 2.3051769733428955, 2.3051562309265137, 2.1158909797668457, 36.241249084472656, 19.907155990600586, 29.25353240966797, 17.0466365814209, 6.519522190093994, 14.006628036499023, 28.833730697631836, 59.396541595458984, 38.234466552734375, 51.7442626953125, 114.9652099609375, 31.34621810913086, 15.69932746887207, 13.84304428100586, 13.632630348205566, 12.627065658569336, 11.280917167663574, 8.238081932067871, 5.805347442626953, 13.206214904785156, 14.006628036499023, 4.454583168029785, 4.194535732269287, 4.039904594421387, 3.779758930206299, 3.579244375228882, 3.5193066596984863, 3.5192816257476807, 11.923377990722656, 2.8580713272094727, 2.6433603763580322, 2.64335560798645, 2.3833634853363037, 2.3833510875701904, 2.3833415508270264, 17.0466365814209, 2.182865858078003, 10.328471183776855, 12.283406257629395, 36.91084289550781, 7.604019641876221, 20.756338119506836, 69.10327911376953, 21.29353141784668, 13.331158638000488, 10.961027145385742, 11.201146125793457, 6.848394393920898, 5.99307107925415, 5.430152893066406, 22.805774688720703, 4.391301155090332, 4.391275882720947, 4.35374641418457, 4.016183853149414, 14.307363510131836, 13.932943344116211, 3.302400588989258, 3.119056224822998, 3.1190404891967773, 2.2637746334075928, 2.0804147720336914, 11.52863883972168, 16.110546112060547, 6.2536091804504395, 8.107697486877441, 42.10639190673828, 62.13631820678711, 8.974836349487305, 22.981182098388672, 36.241249084472656, 114.9652099609375, 36.91084289550781, 69.10327911376953], \"loglift\": [30.0, 29.0, 28.0, 27.0, 26.0, 25.0, 24.0, 23.0, 22.0, 21.0, 20.0, 19.0, 18.0, 17.0, 16.0, 15.0, 14.0, 13.0, 12.0, 11.0, 10.0, 9.0, 8.0, 7.0, 6.0, 5.0, 4.0, 3.0, 2.0, 1.0, 2.6349000930786133, 2.6054000854492188, 2.599400043487549, 2.591399908065796, 2.588200092315674, 2.585200071334839, 2.5703001022338867, 2.5676000118255615, 2.551300048828125, 2.550299882888794, 2.5441999435424805, 2.5292999744415283, 2.521199941635132, 2.4979000091552734, 2.4837000370025635, 2.407900094985962, 2.3712000846862793, 2.3712000846862793, 2.311199903488159, 2.2411000728607178, 1.9148999452590942, 1.6160999536514282, 1.0635000467300415, 0.7210000157356262, 0.41530001163482666, 0.02199999988079071, -0.039400000125169754, -0.05119999870657921, -0.05180000141263008, -0.052000001072883606, -0.05260000005364418, -0.05270000174641609, -0.27889999747276306, -0.05559999868273735, -0.05730000138282776, -0.07249999791383743, -1.27839994430542, -1.3351999521255493, 2.6503000259399414, 2.6489999294281006, 2.6145999431610107, 2.5803000926971436, 2.55679988861084, 2.5518999099731445, 2.527899980545044, 2.5246999263763428, 2.481800079345703, 2.4800000190734863, 2.4800000190734863, 2.4758999347686768, 2.4374001026153564, 2.3689000606536865, 2.3345999717712402, 2.2609000205993652, 2.2007999420166016, 1.7555999755859375, 1.6366000175476074, 0.8252000212669373, 0.7696999907493591, 0.6462000012397766, 0.5285000205039978, 0.3546999990940094, 0.05810000002384186, 0.024800000712275505, 0.01979999989271164, 0.016100000590085983, 0.014800000004470348, 0.014100000262260437, 0.013899999670684338, -0.29190000891685486, -0.25, 0.01080000028014183, -0.741100013256073, -1.1929999589920044, -1.815000057220459, 2.645699977874756, 2.6201999187469482, 2.593899965286255, 2.5915000438690186, 2.5708000659942627, 2.569999933242798, 2.551100015640259, 2.5429000854492188, 2.537100076675415, 2.537100076675415, 2.532900094985962, 2.5260000228881836, 2.5220999717712402, 2.514699935913086, 2.5046000480651855, 2.492500066757202, 2.450200080871582, 2.4279000759124756, 2.3857998847961426, 2.384399890899658, 2.253200054168701, 2.253200054168701, 2.190500020980835, 2.0917999744415283, 1.9637999534606934, 1.9244999885559082, 1.71589994430542, 1.708299994468689, 1.0377000570297241, 0.3206000030040741, -0.771399974822998, 2.6486001014709473, 2.6305999755859375, 2.606600046157837, 2.591399908065796, 2.583400011062622, 2.579200029373169, 2.5713000297546387, 2.557300090789795, 2.538599967956543, 2.4962000846862793, 2.4818999767303467, 2.3973000049591064, 2.3559999465942383, 2.3178999423980713, 2.3178999423980713, 2.2822999954223633, 2.1489999294281006, 2.1489999294281006, 2.1489999294281006, 2.0664000511169434, 1.8047000169754028, 1.2171000242233276, 1.1549999713897705, 0.9921000003814697, 0.6887000203132629, 0.529699981212616, 0.33959999680519104, 0.03610000014305115, 0.03420000150799751, 0.0340999998152256, -0.06080000102519989, 0.031099999323487282, 0.019099999219179153, -0.5708000063896179, -1.250499963760376, 2.6410000324249268, 2.6203999519348145, 2.6047000885009766, 2.5927999019622803, 2.585700035095215, 2.549999952316284, 2.542099952697754, 2.5155999660491943, 2.4874000549316406, 2.484499931335449, 2.4068000316619873, 2.3857998847961426, 2.378999948501587, 2.3719000816345215, 2.3469998836517334, 2.274899959564209, 2.274899959564209, 2.274899959564209, 2.2144999504089355, 2.2144999504089355, 2.154599905014038, 2.133699893951416, 1.819100022315979, 1.7872999906539917, 1.4013999700546265, 0.753000020980835, 0.718999981880188, 0.4607999920845032, 0.061500001698732376, 0.05640000104904175, -0.3312999904155731, -0.2152000069618225, -0.39899998903274536, 2.6375999450683594, 2.6266000270843506, 2.6231000423431396, 2.6133999824523926, 2.595099925994873, 2.573499917984009, 2.5703001022338867, 2.553499937057495, 2.536400079727173, 2.5269999504089355, 2.5234999656677246, 2.502500057220459, 2.4881999492645264, 2.37719988822937, 2.3538999557495117, 2.33870005607605, 2.3183000087738037, 2.3183000087738037, 2.3136000633239746, 2.280100107192993, 2.2435998916625977, 2.1986000537872314, 2.179800033569336, 2.11680006980896, 2.11680006980896, 1.7829999923706055, 1.465999960899353, 1.256600022315979, 0.4269999861717224, 0.3077999949455261, 0.2345999926328659, 2.6338000297546387, 2.602799892425537, 2.573499917984009, 2.5652999877929688, 2.5608999729156494, 2.5608999729156494, 2.5058999061584473, 2.492000102996826, 2.4730000495910645, 2.4637999534606934, 2.4140000343322754, 2.3619000911712646, 2.2590999603271484, 2.0355000495910645, 1.9327000379562378, 1.774399995803833, 1.6849000453948975, 1.2950999736785889, 1.1171000003814697, 1.0870000123977661, 0.6245999932289124, 0.2824000120162964, 0.003100000089034438, 0.003000000026077032, 0.003000000026077032, 0.002899999963119626, 0.002899999963119626, 0.0027000000700354576, 0.0026000000070780516, 0.002400000113993883, -0.013399999588727951, -0.03200000151991844, 0.002300000051036477, 0.002199999988079071, -0.38280001282691956, -0.0003000000142492354, -0.001500000013038516, -0.002400000113993883, -0.7605999708175659, -0.005799999926239252, -0.025200000032782555, -1.3220000267028809, -0.01119999960064888, -0.01679999940097332, -3.3701999187469482, 2.6496999263763428, 2.638400077819824, 2.6191999912261963, 2.61899995803833, 2.592400074005127, 2.5922000408172607, 2.5738000869750977, 2.5683999061584473, 2.540600061416626, 2.5081000328063965, 2.486599922180176, 2.4800000190734863, 2.4781999588012695, 2.4760000705718994, 2.467099905014038, 2.452399969100952, 2.4421000480651855, 2.4351000785827637, 2.3657000064849854, 2.3461999893188477, 2.25819993019104, 1.7813999652862549, 1.442199945449829, 1.3167999982833862, 1.0047999620437622, 0.46160000562667847, 0.36739999055862427, 0.023499999195337296, 0.008999999612569809, 0.008999999612569809, -0.2264000028371811, -0.3504999876022339, -0.45509999990463257, 2.642699956893921, 2.6112000942230225, 2.5689001083374023, 2.560800075531006, 2.554500102996826, 2.548099994659424, 2.520699977874756, 2.512700080871582, 2.472100019454956, 2.469399929046631, 2.444200038909912, 2.38070011138916, 2.350100040435791, 2.2976999282836914, 2.228300094604492, 2.1847000122070312, 2.0318000316619873, 2.0127999782562256, 1.8878999948501587, 1.7553000450134277, 1.7213000059127808, 1.5450999736785889, 1.205299973487854, 1.1181000471115112, 0.8500000238418579, 0.8335999846458435, 0.04969999939203262, -0.002300000051036477, -0.0034000000450760126, -0.02419999986886978, -0.045899998396635056, -1.5587999820709229, 2.6451001167297363, 2.618499994277954, 2.6161000728607178, 2.6034998893737793, 2.5959999561309814, 2.5945000648498535, 2.57450008392334, 2.571000099182129, 2.56850004196167, 2.5652999877929688, 2.5524001121520996, 2.545599937438965, 2.536900043487549, 2.496999979019165, 2.4189999103546143, 2.3313000202178955, 2.1960999965667725, 2.1960999965667725, 2.134500026702881, 1.9419000148773193, 1.1907000541687012, 1.0539000034332275, 1.048799991607666, 0.6528000235557556, 0.5271999835968018, 0.23440000414848328, 0.1054999977350235, 0.009800000116229057, 0.0017000000225380063, 0.0013000000035390258, 0.0012000000569969416, 9.999999747378752e-05, -0.12680000066757202, -0.45210000872612, -0.4575999975204468, -1.9325000047683716, 2.6256000995635986, 2.6210999488830566, 2.5977001190185547, 2.552500009536743, 2.5524001121520996, 2.5524001121520996, 2.551300048828125, 2.5459001064300537, 2.540600061416626, 2.5341999530792236, 2.5100998878479004, 2.480299949645996, 2.345900058746338, 2.273900032043457, 2.242500066757202, 2.221100091934204, 2.1786000728607178, 1.930999994277954, 1.8830000162124634, 1.6854000091552734, 1.336300015449524, 1.1828999519348145, 0.7570000290870667, 0.576200008392334, 0.46549999713897705, 0.3562000095844269, -0.01119999960064888, -0.024700000882148743, -0.03009999915957451, -0.031700000166893005, -0.218299999833107, -0.6646999716758728, -2.4667000770568848, -2.2941999435424805, 2.593899965286255, 2.5725998878479004, 2.557499885559082, 2.545300006866455, 2.5439999103546143, 2.506500005722046, 2.487600088119507, 2.4749999046325684, 2.4567999839782715, 2.400599956512451, 2.3452000617980957, 2.321700096130371, 2.274399995803833, 2.153700113296509, 1.9931999444961548, 1.8566999435424805, 1.5003999471664429, 1.4876999855041504, 1.4247000217437744, 1.3310999870300293, 1.1714999675750732, 0.9635999798774719, 0.8300999999046326, 0.6312000155448914, 0.5916000008583069, 0.4453999996185303, 0.44040000438690186, 0.42719998955726624, 0.22930000722408295, 0.04349999874830246, 0.027499999850988388, -0.15489999949932098, 2.6440000534057617, 2.631200075149536, 2.606100082397461, 2.602299928665161, 2.5608999729156494, 2.5596001148223877, 2.5332000255584717, 2.5280001163482666, 2.518899917602539, 2.4797000885009766, 2.4797000885009766, 2.4767000675201416, 2.4649999141693115, 2.4284000396728516, 2.4021999835968018, 2.3675999641418457, 2.3011999130249023, 2.1982998847961426, 2.1982998847961426, 2.136899948120117, 1.8939000368118286, 1.8307000398635864, 1.7542999982833862, 1.5277999639511108, 0.9771000146865845, 0.765999972820282, 0.7365999817848206, 0.25589999556541443, 0.06350000202655792, 0.04800000041723251, -1.5266000032424927, -0.5318999886512756, 2.6482999324798584, 2.640199899673462, 2.6391000747680664, 2.6333000659942627, 2.5913000106811523, 2.5903000831604004, 2.5367000102996826, 2.5220999717712402, 2.4804999828338623, 2.478100061416626, 2.461899995803833, 2.4511001110076904, 2.4307000637054443, 2.412600040435791, 2.4066998958587646, 2.4066998958587646, 2.343600034713745, 2.3215999603271484, 2.282399892807007, 2.282399892807007, 2.222599983215332, 2.222599983215332, 2.222599983215332, 2.205699920654297, 2.1633999347686768, 2.109499931335449, 1.5985000133514404, 1.3565000295639038, 1.1643999814987183, 0.8787000179290771, -0.5885999798774719, 2.6463000774383545, 2.636899948120117, 2.6210999488830566, 2.58270001411438, 2.564300060272217, 2.541800022125244, 2.522700071334839, 2.4981000423431396, 2.4730000495910645, 2.4730000495910645, 2.4707000255584717, 2.4477999210357666, 2.4453999996185303, 2.421600103378296, 2.3810999393463135, 2.3580000400543213, 2.3580000400543213, 2.1849000453948975, 2.122299909591675, 1.9107999801635742, 1.8499000072479248, 1.7999000549316406, 1.0893000364303589, 1.0017999410629272, 0.5774000287055969, 0.48820000886917114, 0.36169999837875366, 0.18469999730587006, 0.1289999932050705, 0.01730000041425228, -0.97079998254776], \"logprob\": [30.0, 29.0, 28.0, 27.0, 26.0, 25.0, 24.0, 23.0, 22.0, 21.0, 20.0, 19.0, 18.0, 17.0, 16.0, 15.0, 14.0, 13.0, 12.0, 11.0, 10.0, 9.0, 8.0, 7.0, 6.0, 5.0, 4.0, 3.0, 2.0, 1.0, -2.980600118637085, -3.339600086212158, -3.3986001014709473, -3.475399971008301, -3.5048000812530518, -3.5311999320983887, -3.6549999713897705, -3.275099992752075, -3.7451999187469482, -3.8013999462127686, -3.837399959564209, -3.938499927520752, -3.987600088119507, -4.117499828338623, -4.190700054168701, -3.4419000148773193, -4.658299922943115, -4.658299922943115, -3.636399984359741, -2.8338000774383545, -3.40910005569458, -3.6435000896453857, -3.197000026702881, -3.9691998958587646, -3.0469000339508057, -4.322500228881836, -4.917399883270264, -8.211000442504883, -8.23960018157959, -8.257599830627441, -8.218799591064453, -8.219099998474121, -4.401500225067139, -8.1806001663208, -8.189599990844727, -8.151700019836426, -5.355899810791016, -6.6940999031066895, -2.7342000007629395, -2.7600998878479004, -3.2448999881744385, -3.5787999629974365, -2.5230000019073486, -3.7957000732421875, -3.9521000385284424, -3.9714999198913574, -2.692199945449829, -4.214200019836426, -4.214200019836426, -2.917099952697754, -4.408599853515625, -4.671299934387207, -4.785900115966797, -5.003200054168701, -5.164899826049805, -3.460200071334839, -3.0536000728607178, -4.660399913787842, -4.352399826049805, -3.9168999195098877, -4.088200092315674, -5.203000068664551, -4.019400119781494, -8.141400337219238, -8.059399604797363, -8.172100067138672, -8.164999961853027, -8.181099891662598, -8.128399848937988, -3.754199981689453, -4.510499954223633, -8.1141996383667, -5.3394999504089355, -6.397200107574463, -5.937699794769287, -2.824899911880493, -3.1842000484466553, -3.4504001140594482, -3.483099937438965, -3.658099889755249, -3.6640000343322754, -3.803100109100342, -3.8585000038146973, -3.8961000442504883, -3.8961000442504883, -2.9307000637054443, -3.9647998809814453, -3.9881999492645264, -4.031099796295166, -4.087500095367432, -3.4709999561309814, -4.353400230407715, -4.448299884796143, -4.610499858856201, -4.615900039672852, -5.026400089263916, -5.026400089263916, -5.189700126647949, -3.358799934387207, -3.7981998920440674, -2.3361001014709473, -3.707900047302246, -4.163599967956543, -4.534900188446045, -5.243899822235107, -4.742599964141846, -2.7825000286102295, -3.0429000854492188, -3.341399908065796, -3.4895999431610107, -3.5604000091552734, -3.595900058746338, -3.6594998836517334, -3.7644999027252197, -3.0190000534057617, -3.4245998859405518, -4.209799766540527, -4.5721001625061035, -4.718900203704834, -4.841899871826172, -4.841899871826172, -4.948299884796143, -5.293000221252441, -5.293000221252441, -5.293000221252441, -3.48580002784729, -3.645900011062622, -2.754199981689453, -3.6758999824523926, -3.352400064468384, -2.7734999656677246, -4.068600177764893, -3.7379000186920166, -8.161999702453613, -8.155900001525879, -8.134599685668945, -5.140699863433838, -8.11769962310791, -8.060099601745605, -5.448800086975098, -6.398900032043457, -2.5632998943328857, -3.1891000270843506, -3.363100051879883, -3.4779999256134033, -3.5418999195098877, -2.522200107574463, -3.869499921798706, -4.031499862670898, -4.18310022354126, -4.197700023651123, -4.537199974060059, -4.615499973297119, -4.640200138092041, -4.66540002822876, -4.749800205230713, -4.9704999923706055, -4.9704999923706055, -4.9704999923706055, -5.133800029754639, -5.133800029754639, -5.280900001525879, -2.4293999671936035, -3.7330000400543213, -4.2017998695373535, -3.2153000831604004, -4.008800029754639, -4.704800128936768, -3.0013999938964844, -8.070799827575684, -8.068599700927734, -4.302499771118164, -5.6082000732421875, -4.743500232696533, -2.9560000896453857, -3.106600046157837, -3.151400089263916, -3.265199899673462, -3.4516000747680664, -3.08270001411438, -2.8775999546051025, -2.678800106048584, -3.847899913787842, -3.9595000743865967, -3.9800000190734863, -4.0991997718811035, -4.173500061035156, -4.64109992980957, -4.72130012512207, -3.993299961090088, -4.835899829864502, -4.835899829864502, -3.8645999431610107, -3.2244999408721924, -5.051599979400635, -3.5, -5.214900016784668, -5.361999988555908, -5.361999988555908, -3.0950000286102295, -4.134900093078613, -4.471799850463867, -5.536499977111816, -3.8148000240325928, -5.002399921417236, -2.9951999187469482, -3.376199960708618, -3.6410000324249268, -3.704900026321411, -3.737600088119507, -3.737600088119507, -4.083799839019775, -4.157299995422363, -4.251699924468994, -4.294600009918213, -4.50629997253418, -2.8650999069213867, -5.012199878692627, -2.5627999305725098, -2.912600040435791, -3.103600025177002, -2.7818000316619873, -3.3951001167297363, -2.8541998863220215, -4.55810022354126, -4.206200122833252, -3.8403000831604004, -8.187000274658203, -8.182499885559082, -8.185199737548828, -8.195199966430664, -8.195199966430664, -8.202899932861328, -8.168299674987793, -8.195799827575684, -4.357900142669678, -5.425000190734863, -8.172800064086914, -8.169699668884277, -3.8450000286102295, -8.149100303649902, -8.147100448608398, -8.151100158691406, -5.907199859619141, -8.14799976348877, -8.104399681091309, -6.598800182342529, -8.143500328063965, -8.14169979095459, -7.447700023651123, -2.772900104522705, -2.720400094985962, -3.207200050354004, -3.209199905395508, -3.483299970626831, -3.484999895095825, -3.641700029373169, -3.1136999130249023, -3.023900032043457, -4.073200225830078, -4.186600208282471, -3.532399892807007, -4.227799892425537, -4.238699913024902, -4.280799865722656, -4.343500137329102, -4.392399787902832, -4.422299861907959, -4.684899806976318, -4.359799861907959, -5.015200138092041, -4.423699855804443, -3.3196001052856445, -3.9102001190185547, -3.558300018310547, -5.1645002365112305, -3.094899892807007, -8.108799934387207, -8.159700393676758, -8.139699935913086, -4.1975998878479, -4.473100185394287, -5.826000213623047, -2.6340999603271484, -3.295599937438965, -3.6786999702453613, -3.735300064086914, -3.78439998626709, -3.828200101852417, -4.000199794769287, -4.046000003814697, -4.253200054168701, -4.268400192260742, -4.381800174713135, -4.63070011138916, -4.736100196838379, -4.900599956512451, -3.031399965286255, -5.204500198364258, -3.9572999477386475, -3.3111000061035156, -3.535799980163574, -3.890399932861328, -3.124000072479248, -3.8822999000549316, -2.2569000720977783, -3.142400026321411, -4.365699768066406, -3.856600046157837, -5.496399879455566, -8.127300262451172, -4.619999885559082, -8.20989990234375, -4.1234002113342285, -5.53000020980835, -2.85260009765625, -2.52810001373291, -3.2435998916625977, -3.3784000873565674, -3.451200008392334, -3.4646999835968018, -3.6368000507354736, -2.6659998893737793, -3.435800075531006, -3.708199977874756, -3.801100015640259, -3.84689998626709, -3.903700113296509, -4.133399963378906, -4.48829984664917, -4.799200057983398, -5.178100109100342, -5.178100109100342, -5.325200080871582, -3.7037999629974365, -4.313899993896484, -3.0236001014709473, -3.2957000732421875, -3.4697999954223633, -6.178899765014648, -4.997799873352051, -5.342299938201904, -8.069499969482422, -8.123299598693848, -8.188799858093262, -8.18690013885498, -8.145600318908691, -5.782899856567383, -3.914299964904785, -6.248499870300293, -6.192999839782715, -3.1273000240325928, -3.1826999187469482, -3.4316000938415527, -3.797600030899048, -3.79830002784729, -3.79830002784729, -3.805799961090088, -3.842099905014038, -3.8773000240325928, -3.9179000854492188, -4.059899806976318, -4.215199947357178, -3.7681000232696533, -3.3269999027252197, -5.055099964141846, -5.111599922180176, -5.218500137329102, -4.442699909210205, -2.4614999294281006, -2.4372000694274902, -2.634999990463257, -3.5787999629974365, -3.320499897003174, -5.371300220489502, -5.080599784851074, -4.839200019836426, -8.090399742126465, -8.156399726867676, -8.155099868774414, -8.177300453186035, -3.680500030517578, -5.227799892425537, -7.682499885559082, -7.846399784088135, -3.476099967956543, -3.6575000286102295, -3.7702999114990234, -3.853800058364868, -3.862499952316284, -2.615499973297119, -4.186299800872803, -3.010699987411499, -4.332399845123291, -4.563199996948242, -4.757999897003174, -4.833000183105469, -4.973700046539307, -5.28410005569458, -4.2118000984191895, -2.609999895095825, -3.261399984359741, -3.5871999263763428, -2.6528000831604004, -3.4997000694274902, -4.255899906158447, -4.886199951171875, -4.24970006942749, -5.316400051116943, -3.5309998989105225, -5.475399971008301, -5.023099899291992, -3.5439999103546143, -4.64870023727417, -8.122699737548828, -4.662700176239014, -3.6171998977661133, -2.8584001064300537, -3.0613999366760254, -3.0506999492645264, -3.3933000564575195, -2.634399890899658, -3.752500057220459, -3.9289000034332275, -3.960599899291992, -4.014900207519531, -4.222700119018555, -4.222700119018555, -4.237299919128418, -4.292399883270264, -4.451600074768066, -3.2428998947143555, -4.679800033569336, -4.8927998542785645, -5.173399925231934, -5.173399925231934, -5.320499897003174, -2.7227001190185547, -3.3850998878479004, -3.0764999389648438, -3.843100070953369, -5.355000019073486, -4.801300048828125, -4.108699798583984, -3.86680006980896, -4.499599933624268, -4.212600231170654, -4.988800048828125, -5.293600082397461, -2.805000066757202, -2.9388999938964844, -2.9553000926971436, -3.0376999378204346, -3.1923999786376953, -3.5078001022338867, -3.91129994392395, -3.1040000915527344, -3.0868000984191895, -4.234799861907959, -4.311200141906738, -4.359499931335449, -4.446499824523926, -4.519100189208984, -4.541900157928467, -4.541900157928467, -3.3847999572753906, -4.835100173950195, -4.952400207519531, -4.952400207519531, -5.115699768066406, -5.115699768066406, -5.115699768066406, -3.165299892425537, -5.262800216674805, -3.762399911880493, -4.100100040435791, -3.24180006980896, -5.013700008392334, -4.295300006866455, -4.559800148010254, -2.5020999908447266, -2.9798998832702637, -3.1914000511169434, -3.2081000804901123, -3.7184998989105225, -3.874500036239624, -3.9921998977661133, -2.5817999839782715, -4.254199981689453, -4.254199981689453, -4.265100002288818, -4.36870002746582, -3.1006999015808105, -3.1510000228881836, -4.631100177764893, -4.711299896240234, -4.711299896240234, -5.204899787902832, -5.3520002365112305, -3.8512001037597656, -3.577500104904175, -4.573800086975098, -5.024799823760986, -3.464900016784668, -3.5000998973846436, -5.524199962615967, -4.7104997634887695, -4.432000160217285, -3.3333001136779785, -4.581099987030029, -4.9421000480651855]}, \"token.table\": {\"Topic\": [2, 11, 15, 4, 10, 5, 7, 12, 15, 11, 10, 1, 12, 15, 3, 12, 11, 1, 2, 5, 7, 9, 12, 9, 15, 9, 10, 3, 7, 15, 7, 13, 10, 1, 6, 4, 12, 8, 15, 1, 14, 4, 6, 2, 12, 1, 6, 10, 6, 7, 8, 5, 9, 3, 8, 2, 5, 8, 11, 13, 12, 4, 1, 3, 3, 14, 6, 4, 10, 5, 8, 11, 12, 13, 8, 6, 13, 6, 12, 10, 1, 8, 7, 4, 7, 10, 13, 14, 14, 1, 4, 5, 7, 10, 11, 10, 3, 8, 6, 13, 8, 13, 14, 13, 6, 10, 9, 1, 12, 9, 5, 6, 10, 13, 3, 6, 13, 6, 14, 13, 8, 14, 14, 10, 12, 1, 7, 2, 5, 3, 11, 5, 2, 14, 15, 1, 2, 3, 9, 13, 6, 14, 8, 15, 7, 15, 6, 8, 10, 14, 9, 7, 9, 13, 2, 2, 9, 13, 1, 11, 12, 14, 2, 11, 10, 5, 4, 2, 6, 10, 5, 6, 10, 14, 2, 14, 1, 12, 14, 7, 13, 8, 3, 5, 9, 8, 12, 3, 13, 12, 14, 8, 3, 4, 5, 7, 8, 9, 11, 12, 14, 15, 15, 5, 3, 12, 11, 12, 6, 9, 1, 3, 14, 9, 1, 4, 7, 1, 4, 6, 14, 3, 5, 5, 9, 5, 15, 3, 4, 7, 12, 13, 6, 14, 5, 5, 12, 14, 2, 5, 9, 13, 15, 5, 13, 4, 4, 11, 6, 13, 3, 2, 15, 3, 2, 15, 1, 12, 15, 10, 12, 3, 15, 9, 5, 2, 12, 11, 4, 5, 13, 6, 10, 1, 3, 4, 6, 11, 2, 4, 6, 15, 11, 1, 3, 10, 2, 4, 3, 13, 3, 5, 8, 14, 9, 8, 3, 15, 14, 14, 14, 1, 9, 9, 11, 1, 6, 6, 12, 2, 4, 10, 11, 11, 15, 7, 15, 5, 5, 8, 9, 13, 3, 5, 1, 15, 8, 12, 13, 9, 8, 2, 4, 7, 14, 15, 6, 8, 4, 4, 12, 14, 2, 14, 1, 15, 15, 13, 13, 9, 11, 15, 11, 1, 4, 6, 7, 12, 2, 9, 3, 11, 6, 1, 9, 4, 5, 4, 5, 14, 7, 8, 4, 8, 1, 5, 6, 14, 15, 9, 3, 9, 10, 15, 13, 10, 7, 6, 10, 8, 1, 2, 5, 6, 7, 8, 10, 11, 12, 13, 2, 5, 7, 14, 8, 11, 8, 12, 7, 3, 2, 3, 6, 2, 8, 1, 2, 4, 9, 10, 11, 12, 13, 15, 7, 7, 10, 2, 3, 14, 10, 4, 3, 11, 13, 3, 15, 11, 13, 14, 5, 1, 2, 4, 5, 7, 8, 9, 10, 11, 12, 13, 15, 11, 14, 9, 12, 15, 13], \"Freq\": [0.8812996745109558, 0.7400375008583069, 0.2466791570186615, 0.4654005765914917, 0.8179166316986084, 0.02374936267733574, 0.356240451335907, 0.4274885356426239, 0.1899949014186859, 0.7864147424697876, 0.8147629499435425, 0.6108840703964233, 0.30544203519821167, 0.043634574860334396, 0.8366472125053406, 0.12871494889259338, 0.9065244197845459, 0.148489847779274, 0.35637563467025757, 0.029697969555854797, 0.23758375644683838, 0.148489847779274, 0.059395939111709595, 0.9266160130500793, 0.9001468420028687, 0.7541393041610718, 0.6816461086273193, 0.7912755608558655, 0.7847229838371277, 0.6831688284873962, 0.2315141260623932, 0.7717137336730957, 0.7835577726364136, 0.9412519931793213, 0.8771882057189941, 0.8790610432624817, 0.46344083547592163, 0.7780953645706177, 0.6831727623939514, 0.8462929725646973, 0.09403255581855774, 0.9527114033699036, 0.6449839472770691, 0.1372159719467163, 0.8232958316802979, 0.8654395937919617, 0.10262525081634521, 0.8723146915435791, 0.6980662941932678, 0.7112268805503845, 0.2540096044540405, 0.4354170560836792, 0.5442712903022766, 0.7840733528137207, 0.7863590121269226, 0.13077205419540405, 0.5753970742225647, 0.18308088183403015, 0.0261544119566679, 0.07846323400735855, 0.8311026096343994, 0.8352954983711243, 0.8784335255622864, 0.9202584028244019, 0.8988928198814392, 0.8497123718261719, 0.8034036159515381, 0.4654002785682678, 0.8645225167274475, 0.12760710716247559, 0.2871159613132477, 0.22331242263317108, 0.2871159613132477, 0.031901776790618896, 0.8190378546714783, 0.7669273614883423, 0.1533854752779007, 0.8080081939697266, 0.8635463118553162, 0.47372180223464966, 0.6161720156669617, 0.7317426800727844, 0.7937953472137451, 0.7019491791725159, 0.862087070941925, 0.9229009747505188, 0.7264024615287781, 0.7937014102935791, 0.7566126585006714, 0.063055120408535, 0.18916535377502441, 0.0420367456972599, 0.063055120408535, 0.18916535377502441, 0.44138583540916443, 0.9322848916053772, 0.07119366526603699, 0.8543239831924438, 0.9270187020301819, 0.8989276885986328, 0.058662597090005875, 0.29331299662590027, 0.5866259932518005, 0.8765342235565186, 0.8949745297431946, 0.4348999559879303, 0.8877294063568115, 0.7575833797454834, 0.18939584493637085, 0.44145527482032776, 0.5990726947784424, 0.8869940638542175, 0.06335671991109848, 0.4338061809539795, 0.8488200902938843, 0.10610251128673553, 0.9368982315063477, 0.878307580947876, 0.9503395557403564, 0.6273136138916016, 0.07572192698717117, 0.8329411745071411, 0.7566140294075012, 0.8548505902290344, 0.6633054614067078, 0.8881185054779053, 0.8287081718444824, 0.956261932849884, 0.8524094223976135, 0.8219431638717651, 0.4172304570674896, 0.7646611332893372, 0.8892576694488525, 0.6997725963592529, 0.7469777464866638, 0.193258136510849, 0.05797744169831276, 0.4638195335865021, 0.21258395910263062, 0.07730325311422348, 0.4828355312347412, 0.8612748980522156, 0.7799584865570068, 0.11142264306545258, 0.865086555480957, 0.8761177659034729, 0.9104094505310059, 0.6688502430915833, 0.2229500710964203, 0.95545494556427, 0.6818214058876038, 0.4508608281612396, 0.3814976215362549, 0.13872641324996948, 0.43120965361595154, 0.40186554193496704, 0.15069957077503204, 0.40186554193496704, 0.6265611052513123, 0.10442685335874557, 0.10442685335874557, 0.9390997886657715, 0.7693579196929932, 0.7813604474067688, 0.8679593205451965, 0.6209495067596436, 0.8316745162010193, 0.6227795481681824, 0.8583125472068787, 0.07802841067314148, 0.9435366988182068, 0.670519232749939, 0.20115576684474945, 0.06705192476511002, 0.881290078163147, 0.41957512497901917, 0.9373778700828552, 0.9442387819290161, 0.8524406552314758, 0.7048269510269165, 0.8901896476745605, 0.6974184513092041, 0.3710920512676239, 0.12369734793901443, 0.4329407215118408, 0.8808470368385315, 0.08007699996232986, 0.8300836682319641, 0.4726141393184662, 0.7666879892349243, 0.4195789694786072, 0.9273619055747986, 0.028942186385393143, 0.23153749108314514, 0.04341328144073486, 0.2025953084230423, 0.057884372770786285, 0.014471093192696571, 0.2604796886444092, 0.10129765421152115, 0.04341328144073486, 0.028942186385393143, 0.9123232364654541, 0.7646593451499939, 0.7912759184837341, 0.8201195597648621, 0.7813625931739807, 0.8262361884117126, 0.4828348159790039, 0.8458308577537537, 0.7821782231330872, 0.598402738571167, 0.8381657600402832, 0.7294380068778992, 0.8640555143356323, 0.6447646617889404, 0.9112823009490967, 0.9151349663734436, 0.917665958404541, 0.5698745250701904, 0.32564258575439453, 0.7374048829078674, 0.8304412364959717, 0.4237509071826935, 0.9611238837242126, 0.8702772259712219, 0.08702772855758667, 0.5960907340049744, 0.20510344207286835, 0.13673561811447144, 0.2392873466014862, 0.37602296471595764, 0.2516065537929535, 0.6709507703781128, 0.7646608352661133, 0.8751280307769775, 0.6983779072761536, 0.7152162194252014, 0.11037147045135498, 0.27592867612838745, 0.05518573522567749, 0.4414858818054199, 0.08277860283851624, 0.9096070528030396, 0.7040948271751404, 0.7019487023353577, 0.9402706027030945, 0.7808612585067749, 0.6092656850814819, 0.8969770669937134, 0.9165753722190857, 0.9142183065414429, 0.4806733727455139, 0.9049342274665833, 0.9031427502632141, 0.68906170129776, 0.8785713315010071, 0.13154563307762146, 0.7892737984657288, 0.8841855525970459, 0.9163601398468018, 0.4337025582790375, 0.4337025582790375, 0.7410891056060791, 0.9450076222419739, 0.13159267604351044, 0.7895560264587402, 0.8356655240058899, 0.49225157499313354, 0.4219299256801605, 0.4338100850582123, 0.9224891662597656, 0.8156661987304688, 0.8271234631538391, 0.57176274061203, 0.38117516040802, 0.29532507061958313, 0.6644814014434814, 0.8769718408584595, 0.04384859278798103, 0.04384859278798103, 0.8342968225479126, 0.7783921360969543, 0.8058997988700867, 0.9721750020980835, 0.4348965883255005, 0.07070739567279816, 0.8484887480735779, 0.7928717732429504, 0.7506527900695801, 0.9485215544700623, 0.8707948327064514, 0.8629463911056519, 0.9535943865776062, 0.6904725432395935, 0.926589846611023, 0.2153170257806778, 0.7177234292030334, 0.41957730054855347, 0.7425917983055115, 0.8524466753005981, 0.44777199625968933, 0.5037434697151184, 0.9022895693778992, 0.4449351131916046, 0.8454376459121704, 0.803667426109314, 0.4438781440258026, 0.726874053478241, 0.7791121006011963, 0.870344877243042, 0.9340863227844238, 0.9044286012649536, 0.4797229766845703, 0.4797229766845703, 0.8425933122634888, 0.8927657604217529, 0.4623732566833496, 0.6098337173461914, 0.7605152726173401, 0.801656186580658, 0.8734248876571655, 0.848503828048706, 0.8484907150268555, 0.8145509362220764, 0.9392523765563965, 0.405285120010376, 0.5403801202774048, 0.936664879322052, 0.605128824710846, 0.8917900323867798, 0.027092309668660164, 0.10836923867464066, 0.5147538781166077, 0.27092310786247253, 0.08127693086862564, 0.9528566002845764, 0.9496101140975952, 0.8894248008728027, 0.813332736492157, 0.10166659206151962, 0.8864527344703674, 0.8190269470214844, 0.144534170627594, 0.8990029096603394, 0.6056200265884399, 0.6412228345870972, 0.9020941257476807, 0.888565719127655, 0.06989408284425735, 0.1397881656885147, 0.7688348889350891, 0.864719033241272, 0.07166746258735657, 0.035833731293678284, 0.3941710591316223, 0.3941710591316223, 0.07166746258735657, 0.6749267578125, 0.7696495056152344, 0.7597811818122864, 0.8057161569595337, 0.8531208634376526, 0.3149116039276123, 0.6298232078552246, 0.9109116792678833, 0.6591209769248962, 0.46540388464927673, 0.8606475591659546, 0.897951602935791, 0.8898976445198059, 0.787214994430542, 0.9344666600227356, 0.6293338537216187, 0.6161729097366333, 0.7607849836349487, 0.6575469374656677, 0.26301878690719604, 0.44174009561538696, 0.6521301865577698, 0.07722126692533493, 0.38610634207725525, 0.4633275866508484, 0.9207844138145447, 0.7958970665931702, 0.956451952457428, 0.6814307570457458, 0.8681376576423645, 0.1021338403224945, 0.9267467856407166, 0.05050799250602722, 0.016835996881127357, 0.016835996881127357, 0.08417998254299164, 0.08417998254299164, 0.05050799250602722, 0.13468797504901886, 0.35355594754219055, 0.11785198003053665, 0.08417998254299164, 0.7796156406402588, 0.0599704347550869, 0.0599704347550869, 0.0599704347550869, 0.8995200991630554, 0.8824347257614136, 0.8322019577026367, 0.8655089735984802, 0.8898938894271851, 0.7957508563995361, 0.9514763951301575, 0.8343532681465149, 0.6980673670768738, 0.9037709832191467, 0.9250782132148743, 0.016093647107481956, 0.06437458842992783, 0.09656188637018204, 0.06437458842992783, 0.19312377274036407, 0.14484283328056335, 0.2735919952392578, 0.016093647107481956, 0.11265553534030914, 0.8182394504547119, 0.04687297344207764, 0.8905864953994751, 0.7789778709411621, 0.3872790038585663, 0.5809184908866882, 0.8268263339996338, 0.7534643411636353, 0.4374999403953552, 0.09843802452087402, 0.8859422206878662, 0.848502516746521, 0.6412196159362793, 0.8111236095428467, 0.1427895426750183, 0.7853424549102783, 0.423749715089798, 0.10437940061092377, 0.052189700305461884, 0.130474254488945, 0.10437940061092377, 0.0434914194047451, 0.09568111598491669, 0.2261553704738617, 0.0434914194047451, 0.052189700305461884, 0.060887984931468964, 0.01739656738936901, 0.07828455418348312, 0.9454624056816101, 0.45811334252357483, 0.3103557229042053, 0.1862134337425232, 0.43449798226356506, 0.8885468244552612], \"Term\": [\"able\", \"access\", \"access\", \"accord\", \"action\", \"add\", \"add\", \"add\", \"add\", \"align\", \"already\", \"android\", \"android\", \"android\", \"android_studio\", \"android_studio\", \"animation\", \"app\", \"app\", \"app\", \"app\", \"app\", \"app\", \"appear\", \"application\", \"asset\", \"available\", \"avatar\", \"back\", \"back_button\", \"background\", \"background\", \"bad\", \"bar\", \"base\", \"big\", \"block\", \"body\", \"bold\", \"border\", \"border\", \"bottom\", \"box\", \"build\", \"build\", \"builder\", \"button\", \"button\", \"cache\", \"call\", \"call\", \"card\", \"card\", \"cause\", \"center\", \"change\", \"change\", \"change\", \"change\", \"change\", \"check\", \"child\", \"circular\", \"class\", \"clear\", \"click\", \"close\", \"closure\", \"code\", \"color\", \"color\", \"color\", \"color\", \"color\", \"column\", \"command\", \"command\", \"complete\", \"condition\", \"configure\", \"connect\", \"connection\", \"constructor\", \"contain\", \"container\", \"context\", \"corner\", \"correct\", \"correctly\", \"create\", \"create\", \"create\", \"create\", \"create\", \"create\", \"current\", \"custom\", \"custom\", \"dart\", \"date\", \"datum\", \"datum\", \"datum\", \"default\", \"define\", \"delay\", \"dependency\", \"detect\", \"detect\", \"dev\", \"develop\", \"device\", \"device\", \"dial\", \"dialog\", \"dialog\", \"difference\", \"different\", \"disable\", \"dismiss\", \"display\", \"display\", \"dispose\", \"divider\", \"doctor\", \"draw\", \"drop\", \"dynamic\", \"effect\", \"element\", \"emulator\", \"encode\", \"enter\", \"environment\", \"equivalent\", \"error\", \"error\", \"error\", \"error\", \"error\", \"even\", \"event\", \"exception\", \"exception\", \"exist\", \"exit\", \"expand\", \"expect\", \"expect\", \"fail\", \"field\", \"file\", \"file\", \"file\", \"filter\", \"find\", \"find\", \"find\", \"firebase\", \"firebase\", \"firebase\", \"firestore\", \"fit\", \"float\", \"focus\", \"force\", \"format\", \"framework\", \"full\", \"full\", \"function\", \"future\", \"future\", \"future\", \"futurebuilder\", \"game\", \"get\", \"give\", \"good\", \"gridview\", \"handle\", \"header\", \"height\", \"height\", \"height\", \"hide\", \"hide\", \"horizontal\", \"horizontally\", \"host\", \"httpexception\", \"icon\", \"image\", \"image\", \"image\", \"image\", \"image\", \"image\", \"image\", \"image\", \"image\", \"image\", \"implement\", \"import\", \"include\", \"index\", \"indicator\", \"infinite\", \"inherit\", \"initstate\", \"input\", \"inside\", \"instal\", \"install\", \"instead\", \"intent\", \"item\", \"keep\", \"key\", \"keyboard\", \"keyboard\", \"layout\", \"leave\", \"license\", \"line\", \"list\", \"list\", \"listen\", \"listview\", \"listview\", \"listview\", \"listview\", \"load\", \"load\", \"loading\", \"local\", \"lock\", \"main\", \"make\", \"make\", \"make\", \"make\", \"make\", \"map\", \"material\", \"mean\", \"message\", \"method\", \"mode\", \"move\", \"multi\", \"multiple\", \"myapp\", \"name\", \"native\", \"navigate\", \"navigation\", \"navigator\", \"navigator\", \"nest\", \"network\", \"new\", \"new\", \"notification\", \"number\", \"object\", \"object\", \"onpresse\", \"open\", \"open\", \"operation\", \"option\", \"orientation\", \"overflow\", \"package\", \"package\", \"padding\", \"padding\", \"page\", \"page\", \"page\", \"pageview\", \"paragraph\", \"parameter\", \"parent\", \"parse\", \"pass\", \"pass\", \"path\", \"phone\", \"picker\", \"place\", \"play\", \"plugin\", \"pop\", \"position\", \"possible\", \"possible\", \"present\", \"prevent\", \"progress\", \"project\", \"project\", \"property\", \"pub\", \"push\", \"put\", \"react\", \"read\", \"receive\", \"release\", \"reload\", \"remove\", \"render\", \"render\", \"replace\", \"request\", \"resize\", \"resolve\", \"restart\", \"return\", \"right\", \"rotate\", \"round\", \"rounded\", \"route\", \"row\", \"row\", \"run\", \"save\", \"scene\", \"screen\", \"screen\", \"screen\", \"screen\", \"screen\", \"scroll\", \"scrollable\", \"scrolling\", \"sdk\", \"sdk\", \"select\", \"set\", \"set\", \"setstate\", \"setup\", \"shadow\", \"share\", \"sheet\", \"show\", \"show\", \"show\", \"single\", \"size\", \"size\", \"size\", \"size\", \"size\", \"space\", \"splash\", \"stack\", \"start\", \"startup\", \"state\", \"state\", \"stateful\", \"statefulwidget\", \"statelesswidget\", \"statement\", \"storage\", \"store\", \"stream\", \"string\", \"studio\", \"style\", \"subtype\", \"support\", \"support\", \"swipe\", \"switch\", \"tab\", \"tab\", \"tab\", \"tabbar\", \"take\", \"tap\", \"target\", \"test\", \"test\", \"testing\", \"text\", \"text\", \"text\", \"text\", \"text\", \"text\", \"text\", \"text\", \"text\", \"text\", \"textfield\", \"textfield\", \"textfield\", \"textfield\", \"theme\", \"throw\", \"time\", \"title\", \"top\", \"transparent\", \"type\", \"unable\", \"unbounded\", \"underline\", \"update\", \"use\", \"use\", \"use\", \"use\", \"use\", \"use\", \"use\", \"use\", \"use\", \"user\", \"value\", \"value\", \"variable\", \"version\", \"version\", \"vertical\", \"vertically\", \"video\", \"view\", \"view\", \"viewport\", \"visual\", \"wait\", \"way\", \"way\", \"web\", \"widget\", \"widget\", \"widget\", \"widget\", \"widget\", \"widget\", \"widget\", \"widget\", \"widget\", \"widget\", \"widget\", \"widget\", \"width\", \"window\", \"work\", \"work\", \"work\", \"wrapping\"]}, \"R\": 30, \"lambda.step\": 0.01, \"plot.opts\": {\"xlab\": \"PC1\", \"ylab\": \"PC2\"}, \"topic.order\": [14, 13, 6, 2, 5, 15, 1, 12, 9, 10, 4, 11, 8, 3, 7]};\n",
       "\n",
       "function LDAvis_load_lib(url, callback){\n",
       "  var s = document.createElement('script');\n",
       "  s.src = url;\n",
       "  s.async = true;\n",
       "  s.onreadystatechange = s.onload = callback;\n",
       "  s.onerror = function(){console.warn(\"failed to load library \" + url);};\n",
       "  document.getElementsByTagName(\"head\")[0].appendChild(s);\n",
       "}\n",
       "\n",
       "if(typeof(LDAvis) !== \"undefined\"){\n",
       "   // already loaded: just create the visualization\n",
       "   !function(LDAvis){\n",
       "       new LDAvis(\"#\" + \"ldavis_el208122561793459656693930410\", ldavis_el208122561793459656693930410_data);\n",
       "   }(LDAvis);\n",
       "}else if(typeof define === \"function\" && define.amd){\n",
       "   // require.js is available: use it to load d3/LDAvis\n",
       "   require.config({paths: {d3: \"https://cdnjs.cloudflare.com/ajax/libs/d3/3.5.5/d3.min\"}});\n",
       "   require([\"d3\"], function(d3){\n",
       "      window.d3 = d3;\n",
       "      LDAvis_load_lib(\"https://cdn.rawgit.com/bmabey/pyLDAvis/files/ldavis.v1.0.0.js\", function(){\n",
       "        new LDAvis(\"#\" + \"ldavis_el208122561793459656693930410\", ldavis_el208122561793459656693930410_data);\n",
       "      });\n",
       "    });\n",
       "}else{\n",
       "    // require.js not available: dynamically load d3 & LDAvis\n",
       "    LDAvis_load_lib(\"https://cdnjs.cloudflare.com/ajax/libs/d3/3.5.5/d3.min.js\", function(){\n",
       "         LDAvis_load_lib(\"https://cdn.rawgit.com/bmabey/pyLDAvis/files/ldavis.v1.0.0.js\", function(){\n",
       "                 new LDAvis(\"#\" + \"ldavis_el208122561793459656693930410\", ldavis_el208122561793459656693930410_data);\n",
       "            })\n",
       "         });\n",
       "}\n",
       "</script>"
      ],
      "text/plain": [
       "PreparedData(topic_coordinates=              x         y  topics  cluster      Freq\n",
       "topic                                               \n",
       "13    -0.067001  0.082527       1        1  6.675754\n",
       "12    -0.036497  0.080985       2        1  6.675081\n",
       "5      0.066399  0.212909       3        1  6.671410\n",
       "1     -0.057019 -0.072849       4        1  6.669472\n",
       "4     -0.078331  0.016190       5        1  6.669056\n",
       "14     0.258925 -0.064469       6        1  6.668463\n",
       "0     -0.015477 -0.081452       7        1  6.667961\n",
       "11    -0.029438 -0.048521       8        1  6.664990\n",
       "8     -0.106405  0.138125       9        1  6.664356\n",
       "9      0.052271 -0.101441      10        1  6.664239\n",
       "3     -0.039971 -0.161558      11        1  6.664229\n",
       "10    -0.086105 -0.093426      12        1  6.662045\n",
       "7      0.018702  0.059610      13        1  6.661983\n",
       "2      0.202783  0.044161      14        1  6.661765\n",
       "6     -0.082837 -0.010790      15        1  6.659196, topic_info=    Category       Freq    Term       Total  loglift  logprob\n",
       "152  Default  51.000000   error   51.000000  30.0000  30.0000\n",
       "25   Default  42.000000     add   42.000000  29.0000  29.0000\n",
       "4    Default  47.000000  create   47.000000  28.0000  28.0000\n",
       "7    Default  38.000000  change   38.000000  27.0000  27.0000\n",
       "75   Default  69.000000   image   69.000000  26.0000  26.0000\n",
       "..       ...        ...     ...         ...      ...      ...\n",
       "109  Topic15   2.197170    list   22.981182   0.3617  -4.7105\n",
       "67   Topic15   2.902869    make   36.241249   0.1847  -4.4320\n",
       "35   Topic15   8.709501  widget  114.965210   0.1290  -3.3333\n",
       "23   Topic15   2.500746  screen   36.910843   0.0173  -4.5811\n",
       "75   Topic15   1.743010   image   69.103279  -0.9708  -4.9421\n",
       "\n",
       "[541 rows x 6 columns], token_table=      Topic      Freq      Term\n",
       "term                           \n",
       "204       2  0.881300      able\n",
       "93       11  0.740038    access\n",
       "93       15  0.246679    access\n",
       "262       4  0.465401    accord\n",
       "309      10  0.817917    action\n",
       "...     ...       ...       ...\n",
       "292      14  0.458113    window\n",
       "139       9  0.310356      work\n",
       "139      12  0.186213      work\n",
       "139      15  0.434498      work\n",
       "278      13  0.888547  wrapping\n",
       "\n",
       "[459 rows x 3 columns], R=30, lambda_step=0.01, plot_opts={'xlab': 'PC1', 'ylab': 'PC2'}, topic_order=[14, 13, 6, 2, 5, 15, 1, 12, 9, 10, 4, 11, 8, 3, 7])"
      ]
     },
     "execution_count": 170,
     "metadata": {},
     "output_type": "execute_result"
    }
   ],
   "source": [
    "# Visualize the topics\n",
    "pyLDAvis.enable_notebook()\n",
    "vis = pyLDAvis.gensim.prepare(lda_model, corpus, id2word)\n",
    "vis"
   ]
  },
  {
   "cell_type": "code",
   "execution_count": null,
   "metadata": {},
   "outputs": [],
   "source": []
  },
  {
   "cell_type": "code",
   "execution_count": null,
   "metadata": {},
   "outputs": [],
   "source": []
  }
 ],
 "metadata": {
  "kernelspec": {
   "display_name": "Python 3",
   "language": "python",
   "name": "python3"
  },
  "language_info": {
   "codemirror_mode": {
    "name": "ipython",
    "version": 3
   },
   "file_extension": ".py",
   "mimetype": "text/x-python",
   "name": "python",
   "nbconvert_exporter": "python",
   "pygments_lexer": "ipython3",
   "version": "3.7.4"
  }
 },
 "nbformat": 4,
 "nbformat_minor": 2
}
